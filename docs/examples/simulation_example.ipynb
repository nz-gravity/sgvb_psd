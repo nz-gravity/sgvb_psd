{
 "cells": [
  {
   "metadata": {},
   "cell_type": "markdown",
   "source": [
    "# Simulation Example\n",
    "\n",
    "Here we demonstrate how to use this package to estimate the multivariate PSD of VAR(2) simulated data."
   ],
   "id": "836f96455a77024b"
  },
  {
   "metadata": {},
   "cell_type": "code",
   "source": "! pip install sgvb_psd -q ",
   "id": "961b49f46af7b816",
   "outputs": [],
   "execution_count": null
  },
  {
   "metadata": {
    "ExecuteTime": {
     "end_time": "2024-09-22T01:39:48.048001Z",
     "start_time": "2024-09-22T01:39:47.723343Z"
    }
   },
   "cell_type": "code",
   "source": [
    "import numpy as np\n",
    "import matplotlib.pyplot as plt\n",
    "\n",
    "from sgvb_psd.utils.sim_varma import SimVARMA\n",
    "\n",
    "np.random.seed(0)\n",
    "\n",
    "var2 = SimVARMA(\n",
    "    n_samples=1024,\n",
    "    var_coeffs=np.array(\n",
    "        [[[0.5, 0.0], [0.0, -0.3]], [[0.0, 0.0], [0.0, -0.5]]]\n",
    "    ),\n",
    "    vma_coeffs=np.array([[[1.0, 0.0], [0.0, 1.0]]]),\n",
    "    sigma=np.array([[1.0, 0.9], [0.9, 1.0]]),\n",
    ")\n",
    "var2"
   ],
   "id": "c8184a7fdf4c4693",
   "outputs": [
    {
     "data": {
      "text/plain": [
       "<sgvb_psd.utils.sim_varma.SimVARMA at 0x188fc4190>"
      ],
      "text/html": [
       "\n",
       "        <div style=\"font-family: Arial, sans-serif;\">\n",
       "            <h3>VARMA(2, 1) Process</h3>\n",
       "            <p>X<sub>t</sub> = Φ<sub>1</sub>X<sub>t-1</sub> + Φ<sub>2</sub>X<sub>t-2</sub> + ε<sub>t</sub> + Θ<sub>1</sub>ε<sub>t-1</sub></p><p>ε<sub>t</sub> ~ N(0, Σ)</p><h4>VAR coefficients:</h4><p>Φ<sub>1</sub> = <table style='border-collapse: collapse;'><tr><td style='border: 1px solid black; padding: 4px;'>0.50</td><td style='border: 1px solid black; padding: 4px;'>0.00</td></tr><tr><td style='border: 1px solid black; padding: 4px;'>0.00</td><td style='border: 1px solid black; padding: 4px;'>-0.30</td></tr></table></p><p>Φ<sub>2</sub> = <table style='border-collapse: collapse;'><tr><td style='border: 1px solid black; padding: 4px;'>0.00</td><td style='border: 1px solid black; padding: 4px;'>0.00</td></tr><tr><td style='border: 1px solid black; padding: 4px;'>0.00</td><td style='border: 1px solid black; padding: 4px;'>-0.50</td></tr></table></p><h4>VMA coefficients:</h4><p>Θ<sub>1</sub> = <table style='border-collapse: collapse;'><tr><td style='border: 1px solid black; padding: 4px;'>1.00</td><td style='border: 1px solid black; padding: 4px;'>0.00</td></tr><tr><td style='border: 1px solid black; padding: 4px;'>0.00</td><td style='border: 1px solid black; padding: 4px;'>1.00</td></tr></table></p><h4>Covariance matrix:</h4><p>Σ = <table style='border-collapse: collapse;'><tr><td style='border: 1px solid black; padding: 4px;'>1.00</td><td style='border: 1px solid black; padding: 4px;'>0.90</td></tr><tr><td style='border: 1px solid black; padding: 4px;'>0.90</td><td style='border: 1px solid black; padding: 4px;'>1.00</td></tr></table></p></div>"
      ]
     },
     "execution_count": 2,
     "metadata": {},
     "output_type": "execute_result"
    }
   ],
   "execution_count": 2
  },
  {
   "metadata": {},
   "cell_type": "markdown",
   "source": "![VAR(2) Data](var2_data.png)",
   "id": "f74995185167b6ad"
  },
  {
   "metadata": {
    "ExecuteTime": {
     "end_time": "2024-09-22T01:40:58.814491Z",
     "start_time": "2024-09-22T01:40:39.757931Z"
    }
   },
   "cell_type": "code",
   "source": [
    "from sgvb_psd.psd_estimator import PSDEstimator\n",
    "\n",
    "optim = PSDEstimator(\n",
    "    x=var2.data,\n",
    "    N_theta=30,\n",
    "    nchunks=1,\n",
    "    ntrain_map=1000,\n",
    "    max_hyperparm_eval=5,\n",
    "    fs=2 * np.pi,\n",
    ")\n",
    "_ = optim.run(lr=0.003);"
   ],
   "id": "6c3a802c89062a10",
   "outputs": [
    {
     "name": "stdout",
     "output_type": "stream",
     "text": [
      "13:40:41|SGVB-PSD|INFO| Final PSD will be of shape: 512 x 2 x 2\n",
      "13:40:41|SGVB-PSD|DEBUG| Inputted data shape: (1024, 2)\n",
      "13:40:41|SGVB-PSD|DEBUG| Model instantiated: SpecPrep(x(t)=(1024, 2), y(f)=(1, 512, 2), Xmat_delta=(512, 32), Xmat_theta=(512, 32))\n",
      "13:40:41|SGVB-PSD|INFO| Using provided learning rate: 0.003\n",
      "13:40:41|SGVB-PSD|INFO| Training model\n",
      "13:40:41|SGVB-PSD|DEBUG| Starting Model Inference Training..\n",
      "13:40:41|SGVB-PSD|DEBUG| Start Point Estimating... \n",
      "13:40:46|SGVB-PSD|DEBUG| MAP Training Time: 4.66s\n",
      "13:40:46|SGVB-PSD|DEBUG| Start ELBO maximisation... \n",
      "13:40:57|SGVB-PSD|DEBUG| VI Time: 10.80s\n",
      "13:40:57|SGVB-PSD|DEBUG| Total Inference Training Time: 15.57s\n",
      "13:40:57|SGVB-PSD|INFO| Model trained in 15.84s\n",
      "13:40:57|SGVB-PSD|INFO| Computing posterior PSDs\n",
      "13:40:58|SGVB-PSD|INFO| Optimal PSD estimation complete in 1.48s\n"
     ]
    }
   ],
   "execution_count": 5
  },
  {
   "metadata": {
    "ExecuteTime": {
     "end_time": "2024-09-22T01:41:00.955027Z",
     "start_time": "2024-09-22T01:40:58.818496Z"
    }
   },
   "cell_type": "code",
   "source": [
    "_ = optim.plot(\n",
    "    true_psd=[var2.psd, var2.freq],\n",
    "    off_symlog=False,\n",
    "    xlims=[0, np.pi],\n",
    ")\n",
    "plt.savefig(f\"var2_psd.png\")\n",
    "plt.close()\n",
    "\n",
    "_ = optim.plot_coherence(true_psd=[var2.psd, var2.freq], labels=\"XY\")\n",
    "plt.savefig(f\"var2_coh.png\")\n",
    "plt.close()\n",
    "\n",
    "_ = optim.plot_vi_losses()\n",
    "plt.savefig(f\"var2_vi_losses.png\")\n",
    "plt.close()"
   ],
   "id": "262bfc7e5630064f",
   "outputs": [],
   "execution_count": 6
  },
  {
   "metadata": {},
   "cell_type": "markdown",
   "source": [
    "\n",
    "|                       | \n",
    "|-----------------------|\n",
    "| ![VAR(2) PSD][]       |\n",
    "| ![VAR(2) Coherence][] |\n",
    "| ![VAR(2) VI Losses][] |\n",
    "\n",
    "[VAR(2) PSD]: var2_psd.png\n",
    "[VAR(2) Coherence]: var2_coh.png\n",
    "[VAR(2) VI Losses]: var2_vi_losses.png"
   ],
   "id": "ef32f19b8ccaefec"
  },
  {
   "metadata": {},
   "cell_type": "markdown",
   "source": "",
   "id": "baaed6e3a1c38f08"
  },
  {
   "metadata": {
    "ExecuteTime": {
     "end_time": "2024-09-22T01:57:22.362039Z",
     "start_time": "2024-09-22T01:57:21.808396Z"
    }
   },
   "cell_type": "code",
   "source": [
    "from sgvb_psd.postproc.psd_analyzer import PSDAnalyzer\n",
    "\n",
    "analyzer = PSDAnalyzer(\n",
    "    spec_true=var2.psd,\n",
    "    spectral_density_q=optim.psd_quantiles\n",
    ")\n",
    "analyzer"
   ],
   "id": "28f65982cbcf9abd",
   "outputs": [
    {
     "name": "stderr",
     "output_type": "stream",
     "text": [
      "/Users/avaj0001/Documents/projects/sgvb_psd/src/sgvb_psd/postproc/psd_analyzer.py:81: ComplexWarning: Casting complex values to real discards the imaginary part\n",
      "  N2_VI[i] = np.sum(\n"
     ]
    },
    {
     "data": {
      "text/plain": [
       "<sgvb_psd.postproc.psd_analyzer.PSDAnalyzer at 0x18ff10fa0>"
      ],
      "text/html": [
       "<table border=\"1\" class=\"dataframe\">\n",
       "  <thead>\n",
       "    <tr style=\"text-align: right;\">\n",
       "      <th></th>\n",
       "      <th>0</th>\n",
       "    </tr>\n",
       "  </thead>\n",
       "  <tbody>\n",
       "    <tr>\n",
       "      <th>L$_2$ Error</th>\n",
       "      <td>0.072419</td>\n",
       "    </tr>\n",
       "    <tr>\n",
       "      <th>$\\bold{S}_{11}$ CI Length</th>\n",
       "      <td>0.026599</td>\n",
       "    </tr>\n",
       "    <tr>\n",
       "      <th>Re($\\bold{S}_{12}$) CI Length</th>\n",
       "      <td>0.033488</td>\n",
       "    </tr>\n",
       "    <tr>\n",
       "      <th>Im($\\bold{S}_{12}$) CI Length</th>\n",
       "      <td>0.023256</td>\n",
       "    </tr>\n",
       "    <tr>\n",
       "      <th>$\\bold{S}_{22}$ CI Length</th>\n",
       "      <td>0.039866</td>\n",
       "    </tr>\n",
       "    <tr>\n",
       "      <th>Coverage</th>\n",
       "      <td>0.748535</td>\n",
       "    </tr>\n",
       "  </tbody>\n",
       "</table>"
      ]
     },
     "execution_count": 15,
     "metadata": {},
     "output_type": "execute_result"
    }
   ],
   "execution_count": 15
  },
  {
   "metadata": {},
   "cell_type": "code",
   "outputs": [],
   "execution_count": null,
   "source": "",
   "id": "1be25690bd0b0c66"
  }
 ],
 "metadata": {
  "kernelspec": {
   "display_name": "Python 3",
   "language": "python",
   "name": "python3"
  },
  "language_info": {
   "codemirror_mode": {
    "name": "ipython",
    "version": 2
   },
   "file_extension": ".py",
   "mimetype": "text/x-python",
   "name": "python",
   "nbconvert_exporter": "python",
   "pygments_lexer": "ipython2",
   "version": "2.7.6"
  }
 },
 "nbformat": 4,
 "nbformat_minor": 5
}
