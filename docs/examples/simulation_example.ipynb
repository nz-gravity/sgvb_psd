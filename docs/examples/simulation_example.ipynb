{
 "cells": [
  {
   "metadata": {},
   "cell_type": "markdown",
   "source": [
    "# Simulation Example\n",
    "\n",
    "Here we demonstrate how to use this package to estimate the multivariate PSD of VAR(2) simulated data."
   ],
   "id": "836f96455a77024b"
  },
  {
   "metadata": {},
   "cell_type": "code",
   "source": "! pip install sgvb_psd -q ",
   "id": "961b49f46af7b816",
   "outputs": [],
   "execution_count": null
  },
  {
   "metadata": {},
   "cell_type": "code",
   "source": [
    "import numpy as np\n",
    "import matplotlib.pyplot as plt\n",
    "\n",
    "from sgvb_psd.utils.sim_varma import SimVARMA\n",
    "\n",
    "np.random.seed(0)\n",
    "\n",
    "var2 = SimVARMA(\n",
    "    n_samples=2 ** 13,\n",
    "    var_coeffs=np.array(\n",
    "        [[[0.5, 0.0], [0.0, -0.3]], [[0.0, 0.0], [0.0, -0.5]]]\n",
    "    ),\n",
    "    vma_coeffs=np.array([[[1.0, 0.0], [0.0, 1.0]]]),\n",
    "    sigma=np.array([[1.0, 0.9], [0.9, 1.0]]),\n",
    ")\n",
    "var2"
   ],
   "id": "c8184a7fdf4c4693",
   "outputs": [],
   "execution_count": null
  },
  {
   "metadata": {},
   "cell_type": "markdown",
   "source": "![VAR(2) Data](var2_data.png)",
   "id": "f74995185167b6ad"
  },
  {
   "metadata": {},
   "cell_type": "code",
   "source": [
    "from sgvb_psd.psd_estimator import PSDEstimator\n",
    "\n",
    "optim = PSDEstimator(\n",
    "    x=var2.data,\n",
    "    N_theta=50,\n",
    "    nchunks=4,\n",
    "    ntrain_map=1000,\n",
    "    max_hyperparm_eval=1,\n",
    "    fs=2 * np.pi,\n",
    ")\n",
    "_ = optim.run(lr=0.003);"
   ],
   "id": "6c3a802c89062a10",
   "outputs": [],
   "execution_count": null
  },
  {
   "metadata": {},
   "cell_type": "code",
   "source": [
    "_ = optim.plot(\n",
    "    true_psd=[var2.psd, var2.freq],\n",
    "    off_symlog=False,\n",
    "    xlims=[0, np.pi],\n",
    ")\n",
    "plt.savefig(f\"var2_psd.png\")\n",
    "plt.close()\n",
    "\n",
    "_ = optim.plot_coherence(true_psd=[var2.psd, var2.freq], labels=\"XY\")\n",
    "plt.savefig(f\"var2_coh.png\")\n",
    "plt.close()\n",
    "\n",
    "_ = optim.plot_vi_losses()\n",
    "plt.savefig(f\"var2_vi_losses.png\")\n",
    "plt.close()"
   ],
   "id": "262bfc7e5630064f",
   "outputs": [],
   "execution_count": null
  },
  {
   "metadata": {},
   "cell_type": "markdown",
   "source": [
    "\n",
    "|                       | \n",
    "|-----------------------|\n",
    "| ![VAR(2) PSD][]       |\n",
    "| ![VAR(2) Coherence][] |\n",
    "| ![VAR(2) VI Losses][] |\n",
    "\n",
    "[VAR(2) PSD]: var2_psd.png\n",
    "[VAR(2) Coherence]: var2_coh.png\n",
    "[VAR(2) VI Losses]: var2_vi_losses.png"
   ],
   "id": "ef32f19b8ccaefec"
  },
  {
   "metadata": {},
   "cell_type": "markdown",
   "source": "",
   "id": "baaed6e3a1c38f08"
  }
 ],
 "metadata": {
  "kernelspec": {
   "display_name": "Python 3",
   "language": "python",
   "name": "python3"
  },
  "language_info": {
   "codemirror_mode": {
    "name": "ipython",
    "version": 2
   },
   "file_extension": ".py",
   "mimetype": "text/x-python",
   "name": "python",
   "nbconvert_exporter": "python",
   "pygments_lexer": "ipython2",
   "version": "2.7.6"
  }
 },
 "nbformat": 4,
 "nbformat_minor": 5
}
