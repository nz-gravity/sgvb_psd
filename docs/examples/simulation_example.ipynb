{
 "cells": [
  {
   "metadata": {},
   "cell_type": "markdown",
   "source": [
    "# Simulation Example\n",
    "\n",
    "Here we demonstrate how to use this package to estimate the multivariate PSD of VAR(2) simulated data."
   ],
   "id": "836f96455a77024b"
  },
  {
   "metadata": {
    "ExecuteTime": {
     "end_time": "2024-09-16T05:46:36.147778Z",
     "start_time": "2024-09-16T05:46:33.893402Z"
    }
   },
   "cell_type": "code",
   "source": [
    "import numpy as np\n",
    "import matplotlib.pyplot as plt\n",
    "\n",
    "from sgvb_psd.utils.sim_varma import SimVARMA\n",
    "\n",
    "np.random.seed(0)\n",
    "\n",
    "var2 = SimVARMA(\n",
    "    n_samples=1024,\n",
    "    var_coeffs=np.array([[[0.5, 0.], [0., -0.3]], [[0., 0.], [0., -0.5]]]),\n",
    "    vma_coeffs=np.array([[[1., 0.], [0., 1.]]]),\n",
    "    sigma=np.array([[1., 0.9], [0.9, 1.]])\n",
    ")\n",
    "var2"
   ],
   "id": "c8184a7fdf4c4693",
   "outputs": [
    {
     "data": {
      "text/plain": [
       "<sgvb_psd.utils.sim_varma.SimVARMA at 0x10bf1c2e0>"
      ],
      "text/html": [
       "\n",
       "        <div style=\"font-family: Arial, sans-serif;\">\n",
       "            <h3>VARMA(2, 1) Process</h3>\n",
       "            <p>X<sub>t</sub> = Φ<sub>1</sub>X<sub>t-1</sub> + Φ<sub>2</sub>X<sub>t-2</sub> + ε<sub>t</sub> + Θ<sub>1</sub>ε<sub>t-1</sub></p><p>ε<sub>t</sub> ~ N(0, Σ)</p><h4>VAR coefficients:</h4><p>Φ<sub>1</sub> = <table style='border-collapse: collapse;'><tr><td style='border: 1px solid black; padding: 4px;'>0.50</td><td style='border: 1px solid black; padding: 4px;'>0.00</td></tr><tr><td style='border: 1px solid black; padding: 4px;'>0.00</td><td style='border: 1px solid black; padding: 4px;'>-0.30</td></tr></table></p><p>Φ<sub>2</sub> = <table style='border-collapse: collapse;'><tr><td style='border: 1px solid black; padding: 4px;'>0.00</td><td style='border: 1px solid black; padding: 4px;'>0.00</td></tr><tr><td style='border: 1px solid black; padding: 4px;'>0.00</td><td style='border: 1px solid black; padding: 4px;'>-0.50</td></tr></table></p><h4>VMA coefficients:</h4><p>Θ<sub>1</sub> = <table style='border-collapse: collapse;'><tr><td style='border: 1px solid black; padding: 4px;'>1.00</td><td style='border: 1px solid black; padding: 4px;'>0.00</td></tr><tr><td style='border: 1px solid black; padding: 4px;'>0.00</td><td style='border: 1px solid black; padding: 4px;'>1.00</td></tr></table></p><h4>Covariance matrix:</h4><p>Σ = <table style='border-collapse: collapse;'><tr><td style='border: 1px solid black; padding: 4px;'>1.00</td><td style='border: 1px solid black; padding: 4px;'>0.90</td></tr><tr><td style='border: 1px solid black; padding: 4px;'>0.90</td><td style='border: 1px solid black; padding: 4px;'>1.00</td></tr></table></p></div>"
      ]
     },
     "execution_count": 1,
     "metadata": {},
     "output_type": "execute_result"
    }
   ],
   "execution_count": 1
  },
  {
   "metadata": {
    "ExecuteTime": {
     "end_time": "2024-09-16T05:46:37.812457Z",
     "start_time": "2024-09-16T05:46:36.150551Z"
    }
   },
   "cell_type": "code",
   "source": [
    "var2.plot()\n",
    "plt.savefig(f'var2_data.png')\n",
    "plt.close()"
   ],
   "id": "a4e2fe51e90b2d20",
   "outputs": [],
   "execution_count": 2
  },
  {
   "metadata": {},
   "cell_type": "markdown",
   "source": "![VAR(2) Data](var2_data.png)",
   "id": "f74995185167b6ad"
  },
  {
   "metadata": {
    "ExecuteTime": {
     "end_time": "2024-09-16T05:47:00.529923Z",
     "start_time": "2024-09-16T05:46:37.814064Z"
    }
   },
   "cell_type": "code",
   "source": [
    "from sgvb_psd.optimal_psd_estimator import OptimalPSDEstimator\n",
    "\n",
    "optim = OptimalPSDEstimator(\n",
    "    N_theta=30, nchunks=1, duration=1,\n",
    "    ntrain_map=100, x=var2.data, max_hyperparm_eval=1\n",
    ")\n",
    "optim.run()\n",
    "_ = optim.plot(\n",
    "    true_psd=[var2.psd, var2.freq], \n",
    "    off_symlog=False,\n",
    "    xlims=[0, np.pi],\n",
    ");\n",
    "plt.savefig(f'var2_psd.png');\n",
    "plt.close()"
   ],
   "id": "6c3a802c89062a10",
   "outputs": [
    {
     "name": "stderr",
     "output_type": "stream",
     "text": [
      "2024-09-16 17:46:40.695470: I tensorflow/core/platform/cpu_feature_guard.cc:210] This TensorFlow binary is optimized to use available CPU instructions in performance-critical operations.\n",
      "To enable the following instructions: AVX2 FMA, in other operations, rebuild TensorFlow with the appropriate compiler flags.\n"
     ]
    },
    {
     "name": "stdout",
     "output_type": "stream",
     "text": [
      "17:46:45|SGVB-PSD|INFO| 0s |No GPU detected. Running on CPU.\n",
      "17:46:45|SGVB-PSD|INFO| 0s |Running hyperopt to find optimal learning rate\n",
      "  0%|          | 0/1 [00:00<?, ?trial/s, best loss=?]17:46:45|SGVB-PSD|DEBUG| 0s |Inputted data shape: (1024, 2)\n",
      "17:46:45|SGVB-PSD|DEBUG| 0s |Starting Model Inference Training..\n",
      "17:46:45|SGVB-PSD|DEBUG| 0s |Start Point Estimating... \n",
      "17:46:48|SGVB-PSD|DEBUG| 3s |MAP Training Time: 3.11s\n",
      "17:46:48|SGVB-PSD|DEBUG| 3s |Start UQ training... \n",
      "17:46:57|SGVB-PSD|DEBUG| 12s |VI Time: 9.16s\n",
      "17:46:57|SGVB-PSD|DEBUG| 12s |Total Inference Training Time: 12.34s\n",
      "100%|██████████| 1/1 [00:12<00:00, 12.63s/trial, best loss: 904.1318359375]\n",
      "17:46:58|SGVB-PSD|INFO| 12s |Optimal learning rate found in 12.65s\n",
      "17:46:58|SGVB-PSD|INFO| 12s |Computing optimal PSD estimation\n",
      "17:46:59|SGVB-PSD|INFO| 13s |Optimal PSD estimation complete in 1.11s\n"
     ]
    }
   ],
   "execution_count": 3
  },
  {
   "metadata": {},
   "cell_type": "markdown",
   "source": "![VAR(2) PSD](var2_psd.png)",
   "id": "e4d0057dea5cffcd"
  }
 ],
 "metadata": {
  "kernelspec": {
   "display_name": "Python 3",
   "language": "python",
   "name": "python3"
  },
  "language_info": {
   "codemirror_mode": {
    "name": "ipython",
    "version": 2
   },
   "file_extension": ".py",
   "mimetype": "text/x-python",
   "name": "python",
   "nbconvert_exporter": "python",
   "pygments_lexer": "ipython2",
   "version": "2.7.6"
  }
 },
 "nbformat": 4,
 "nbformat_minor": 5
}
