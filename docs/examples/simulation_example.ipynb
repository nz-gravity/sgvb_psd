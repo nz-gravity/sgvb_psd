{
 "cells": [
  {
   "metadata": {},
   "cell_type": "markdown",
   "source": [
    "# Simulation Example\n",
    "\n",
    "Here we demonstrate how to use this package to estimate the multivariate PSD of VAR(2) simulated data."
   ],
   "id": "836f96455a77024b"
  },
  {
   "metadata": {
    "ExecuteTime": {
     "end_time": "2024-09-09T05:56:01.219305Z",
     "start_time": "2024-09-09T05:56:00.496493Z"
    }
   },
   "cell_type": "code",
   "source": [
    "import numpy as np\n",
    "import matplotlib.pyplot as plt\n",
    "\n",
    "from sgvb_psd.utils.sim_varma import SimVARMA\n",
    "\n",
    "np.random.seed(0)\n",
    "\n",
    "var2 = SimVARMA(\n",
    "    n_samples=1024,\n",
    "    var_coeffs=np.array([[[0.5, 0.], [0., -0.3]], [[0., 0.], [0., -0.5]]]),\n",
    "    vma_coeffs=np.array([[[1., 0.], [0., 1.]]]),\n",
    "    sigma=np.array([[1., 0.9], [0.9, 1.]])\n",
    ")\n",
    "var2"
   ],
   "id": "c8184a7fdf4c4693",
   "outputs": [
    {
     "data": {
      "text/plain": [
       "<sgvb_psd.utils.sim_varma.SimVARMA at 0x7f5995c57220>"
      ],
      "text/html": [
       "<h3>VARMA(2, 1) Process</h3>$$\\mathbf{X}_t = \\mathbf{\\Phi}_{1}\\mathbf{X}_{t-1} + \\mathbf{\\Phi}_{2}\\mathbf{X}_{t-2} + \\mathbf{\\epsilon}_t + \\mathbf{\\Theta}_{1}\\mathbf{\\epsilon}_{t-1}$$$$\\mathbf{\\epsilon}_t \\sim \\mathcal{N}(\\mathbf{0}, \\mathbf{\\Sigma})$$<h4>VAR coefficients:</h4>$$\\mathbf{\\Phi}_{1} = \\begin{bmatrix} 0.50 & 0.00\\\\ 0.00 & -0.30 \\end{bmatrix}$$$$\\mathbf{\\Phi}_{2} = \\begin{bmatrix} 0.00 & 0.00\\\\ 0.00 & -0.50 \\end{bmatrix}$$<h4>VMA coefficients:</h4>$$\\mathbf{\\Theta}_{1} = \\begin{bmatrix} 1.00 & 0.00\\\\ 0.00 & 1.00 \\end{bmatrix}$$<h4>Covariance matrix:</h4>$$\\mathbf{\\Sigma} = \\begin{bmatrix} 1.00 & 0.90\\\\ 0.90 & 1.00 \\end{bmatrix}$$"
      ]
     },
     "execution_count": 1,
     "metadata": {},
     "output_type": "execute_result"
    }
   ],
   "execution_count": 1
  },
  {
   "metadata": {
    "ExecuteTime": {
     "end_time": "2024-09-09T05:44:07.197365Z",
     "start_time": "2024-09-09T05:44:06.236083Z"
    }
   },
   "cell_type": "code",
   "source": [
    "var2.plot()\n",
    "plt.savefig(f'var2_data.png')\n",
    "plt.close()"
   ],
   "id": "a4e2fe51e90b2d20",
   "outputs": [],
   "execution_count": 10
  },
  {
   "metadata": {},
   "cell_type": "markdown",
   "source": "![VAR(2) Data](var2_data.png)",
   "id": "f74995185167b6ad"
  },
  {
   "metadata": {
    "ExecuteTime": {
     "end_time": "2024-09-09T05:42:03.883574Z",
     "start_time": "2024-09-09T05:41:55.843777Z"
    }
   },
   "cell_type": "code",
   "source": [
    "from sgvb_psd.optimal_psd_estimator import OptimalPSDEstimator\n",
    "\n",
    "optim = OptimalPSDEstimator(\n",
    "    N_theta=30, nchunks=1, duration=1,\n",
    "    ntrain_map=100, x=var2.data, max_hyperparm_eval=1\n",
    ")\n",
    "optim.run()\n",
    "_ = optim.plot(true_psd=[var2.psd, var2.freq], off_symlog=False);\n",
    "plt.savefig(f'var2_psd.png');\n",
    "plt.close()"
   ],
   "id": "6c3a802c89062a10",
   "outputs": [
    {
     "name": "stdout",
     "output_type": "stream",
     "text": [
      "  0%|          | 0/1 [00:00<?, ?trial/s, best loss=?]|17:41:55|SGVB-PSD|DEBUG| Inputted data shape: (1024, 2)\n",
      "|17:41:55|SGVB-PSD|INFO| Start Model Inference Training: \n",
      "|17:41:55|SGVB-PSD|INFO| Start Point Estimating: \n",
      "WARNING:tensorflow:6 out of the last 6 calls to <function SpecVI.runModel.<locals>.train_hs at 0x7f6e7fa2c700> triggered tf.function retracing. Tracing is expensive and the excessive number of tracings could be due to (1) creating @tf.function repeatedly in a loop, (2) passing tensors with different shapes, (3) passing Python objects instead of tensors. For (1), please define your @tf.function outside of the loop. For (2), @tf.function has reduce_retracing=True option that can avoid unnecessary retracing. For (3), please refer to https://www.tensorflow.org/guide/function#controlling_retracing and https://www.tensorflow.org/api_docs/python/tf/function for  more details.\n",
      "|17:41:57|SGVB-PSD|INFO| MAP Training Time: 1.33s\n",
      "|17:41:57|SGVB-PSD|INFO| Start UQ training: \n",
      "WARNING:tensorflow:6 out of the last 6 calls to <function SpecVI.runModel.<locals>.<lambda> at 0x7f6e7f1a0ee0> triggered tf.function retracing. Tracing is expensive and the excessive number of tracings could be due to (1) creating @tf.function repeatedly in a loop, (2) passing tensors with different shapes, (3) passing Python objects instead of tensors. For (1), please define your @tf.function outside of the loop. For (2), @tf.function has reduce_retracing=True option that can avoid unnecessary retracing. For (3), please refer to https://www.tensorflow.org/guide/function#controlling_retracing and https://www.tensorflow.org/api_docs/python/tf/function for  more details.\n",
      "|17:42:02|SGVB-PSD|INFO| VI Time: 5.45s\n",
      "|17:42:02|SGVB-PSD|INFO| Total Inference Training Time: 6.81s\n",
      "100%|██████████| 1/1 [00:06<00:00,  6.92s/trial, best loss: 892.1759033203125]\n"
     ]
    }
   ],
   "execution_count": 8
  },
  {
   "metadata": {},
   "cell_type": "markdown",
   "source": "![VAR(2) PSD](var2_psd.png)",
   "id": "e4d0057dea5cffcd"
  }
 ],
 "metadata": {
  "kernelspec": {
   "display_name": "Python 3",
   "language": "python",
   "name": "python3"
  },
  "language_info": {
   "codemirror_mode": {
    "name": "ipython",
    "version": 2
   },
   "file_extension": ".py",
   "mimetype": "text/x-python",
   "name": "python",
   "nbconvert_exporter": "python",
   "pygments_lexer": "ipython2",
   "version": "2.7.6"
  }
 },
 "nbformat": 4,
 "nbformat_minor": 5
}
