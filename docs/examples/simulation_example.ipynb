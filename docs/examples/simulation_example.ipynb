{
 "cells": [
  {
   "metadata": {},
   "cell_type": "markdown",
   "source": [
    "# Simulation Example\n",
    "\n",
    "Here we demonstrate how to use this package to estimate the multivariate PSD of VAR(2) simulated data."
   ],
   "id": "836f96455a77024b"
  },
  {
   "metadata": {
    "ExecuteTime": {
     "end_time": "2024-09-19T03:52:57.830622Z",
     "start_time": "2024-09-19T03:52:57.285839Z"
    }
   },
   "cell_type": "code",
   "source": [
    "import numpy as np\n",
    "import matplotlib.pyplot as plt\n",
    "\n",
    "from sgvb_psd.utils.sim_varma import SimVARMA\n",
    "\n",
    "np.random.seed(0)\n",
    "\n",
    "var2 = SimVARMA(\n",
    "    n_samples=1024,\n",
    "    var_coeffs=np.array(\n",
    "        [[[0.5, 0.0], [0.0, -0.3]], [[0.0, 0.0], [0.0, -0.5]]]\n",
    "    ),\n",
    "    vma_coeffs=np.array([[[1.0, 0.0], [0.0, 1.0]]]),\n",
    "    sigma=np.array([[1.0, 0.9], [0.9, 1.0]]),\n",
    ")\n",
    "var2"
   ],
   "id": "c8184a7fdf4c4693",
   "outputs": [
    {
     "data": {
      "text/plain": [
       "<sgvb_psd.utils.sim_varma.SimVARMA at 0x191a29ee0>"
      ],
      "text/html": [
       "\n",
       "        <div style=\"font-family: Arial, sans-serif;\">\n",
       "            <h3>VARMA(2, 1) Process</h3>\n",
       "            <p>X<sub>t</sub> = Φ<sub>1</sub>X<sub>t-1</sub> + Φ<sub>2</sub>X<sub>t-2</sub> + ε<sub>t</sub> + Θ<sub>1</sub>ε<sub>t-1</sub></p><p>ε<sub>t</sub> ~ N(0, Σ)</p><h4>VAR coefficients:</h4><p>Φ<sub>1</sub> = <table style='border-collapse: collapse;'><tr><td style='border: 1px solid black; padding: 4px;'>0.50</td><td style='border: 1px solid black; padding: 4px;'>0.00</td></tr><tr><td style='border: 1px solid black; padding: 4px;'>0.00</td><td style='border: 1px solid black; padding: 4px;'>-0.30</td></tr></table></p><p>Φ<sub>2</sub> = <table style='border-collapse: collapse;'><tr><td style='border: 1px solid black; padding: 4px;'>0.00</td><td style='border: 1px solid black; padding: 4px;'>0.00</td></tr><tr><td style='border: 1px solid black; padding: 4px;'>0.00</td><td style='border: 1px solid black; padding: 4px;'>-0.50</td></tr></table></p><h4>VMA coefficients:</h4><p>Θ<sub>1</sub> = <table style='border-collapse: collapse;'><tr><td style='border: 1px solid black; padding: 4px;'>1.00</td><td style='border: 1px solid black; padding: 4px;'>0.00</td></tr><tr><td style='border: 1px solid black; padding: 4px;'>0.00</td><td style='border: 1px solid black; padding: 4px;'>1.00</td></tr></table></p><h4>Covariance matrix:</h4><p>Σ = <table style='border-collapse: collapse;'><tr><td style='border: 1px solid black; padding: 4px;'>1.00</td><td style='border: 1px solid black; padding: 4px;'>0.90</td></tr><tr><td style='border: 1px solid black; padding: 4px;'>0.90</td><td style='border: 1px solid black; padding: 4px;'>1.00</td></tr></table></p></div>"
      ]
     },
     "execution_count": 10,
     "metadata": {},
     "output_type": "execute_result"
    }
   ],
   "execution_count": 10
  },
  {
   "metadata": {
    "ExecuteTime": {
     "end_time": "2024-09-19T03:53:02.051360Z",
     "start_time": "2024-09-19T03:52:57.834344Z"
    }
   },
   "cell_type": "code",
   "source": [
    "var2.plot(off_symlog=False, xlims=[0, np.pi])\n",
    "plt.savefig(f\"var2_data.png\")\n",
    "plt.close();"
   ],
   "id": "a4e2fe51e90b2d20",
   "outputs": [],
   "execution_count": 11
  },
  {
   "metadata": {},
   "cell_type": "markdown",
   "source": "![VAR(2) Data](var2_data.png)",
   "id": "f74995185167b6ad"
  },
  {
   "metadata": {
    "ExecuteTime": {
     "end_time": "2024-09-19T03:53:28.104679Z",
     "start_time": "2024-09-19T03:53:02.055989Z"
    }
   },
   "cell_type": "code",
   "source": [
    "from sgvb_psd.psd_estimator import PSDEstimator\n",
    "\n",
    "optim = PSDEstimator(\n",
    "    x=var2.data,\n",
    "    N_theta=30,\n",
    "    nchunks=1,\n",
    "    ntrain_map=1000,\n",
    "    max_hyperparm_eval=5,\n",
    "    fs=2 * np.pi,\n",
    ")\n",
    "optim.run(lr=0.003)\n",
    "_ = optim.plot(\n",
    "    true_psd=[var2.psd, var2.freq],\n",
    "    off_symlog=False,\n",
    "    xlims=[0, np.pi],\n",
    ")\n",
    "plt.savefig(f\"var2_psd.png\")\n",
    "plt.close()"
   ],
   "id": "6c3a802c89062a10",
   "outputs": [
    {
     "name": "stdout",
     "output_type": "stream",
     "text": [
      "15:53:02|SGVB-PSD|INFO| 12527s |Final PSD will be of shape: 512 x 2 x 2\n",
      "15:53:02|SGVB-PSD|DEBUG| 12527s |Inputted data shape: (1024, 2)\n",
      "15:53:02|SGVB-PSD|DEBUG| 12527s |Model instantiated: SpecPrep(x(t)=(1024, 2), y(f)=(1, 512, 2), Xmat_delta=(512, 32), Xmat_theta=(512, 32))\n",
      "15:53:02|SGVB-PSD|INFO| 12527s |Using provided learning rate: 0.003\n",
      "15:53:02|SGVB-PSD|INFO| 12527s |Training model\n",
      "15:53:02|SGVB-PSD|DEBUG| 12527s |Starting Model Inference Training..\n",
      "15:53:02|SGVB-PSD|DEBUG| 12528s |Start Point Estimating... \n",
      "15:53:08|SGVB-PSD|DEBUG| 12534s |MAP Training Time: 6.03s\n",
      "15:53:08|SGVB-PSD|DEBUG| 12534s |Start ELBO maximisation... \n",
      "15:53:22|SGVB-PSD|DEBUG| 12548s |VI Time: 14.22s\n",
      "15:53:22|SGVB-PSD|DEBUG| 12548s |Total Inference Training Time: 20.40s\n",
      "15:53:22|SGVB-PSD|INFO| 12548s |Model trained in 20.76s\n",
      "15:53:22|SGVB-PSD|INFO| 12548s |Computing posterior PSDs\n",
      "15:53:25|SGVB-PSD|INFO| 12550s |Optimal PSD estimation complete in 2.23s\n"
     ]
    }
   ],
   "execution_count": 12
  },
  {
   "metadata": {},
   "cell_type": "markdown",
   "source": "![VAR(2) PSD](var2_psd.png)",
   "id": "e4d0057dea5cffcd"
  },
  {
   "metadata": {
    "ExecuteTime": {
     "end_time": "2024-09-19T00:28:51.481444Z",
     "start_time": "2024-09-19T00:28:50.852713Z"
    }
   },
   "cell_type": "code",
   "source": [
    "_ = optim.plot_coherence(true_psd=[var2.psd, var2.freq], labels=\"XY\")\n",
    "plt.savefig(f\"var2_coh.png\")\n",
    "plt.close()"
   ],
   "id": "262bfc7e5630064f",
   "outputs": [],
   "execution_count": 6
  },
  {
   "metadata": {},
   "cell_type": "markdown",
   "source": "![VAR(2) Coherence](var2_coh.png)",
   "id": "ef32f19b8ccaefec"
  },
  {
   "metadata": {
    "ExecuteTime": {
     "end_time": "2024-09-19T00:37:40.422039Z",
     "start_time": "2024-09-19T00:37:39.599802Z"
    }
   },
   "cell_type": "code",
   "source": [
    "_ = optim.plot_vi_losses()\n",
    "plt.savefig(f\"var2_vi_losses.png\")\n",
    "plt.close()"
   ],
   "id": "206c8f504b5f145b",
   "outputs": [],
   "execution_count": 8
  },
  {
   "metadata": {},
   "cell_type": "markdown",
   "source": "![VAR(2) VI Losses](var2_vi_losses.png)",
   "id": "baaed6e3a1c38f08"
  }
 ],
 "metadata": {
  "kernelspec": {
   "display_name": "Python 3",
   "language": "python",
   "name": "python3"
  },
  "language_info": {
   "codemirror_mode": {
    "name": "ipython",
    "version": 2
   },
   "file_extension": ".py",
   "mimetype": "text/x-python",
   "name": "python",
   "nbconvert_exporter": "python",
   "pygments_lexer": "ipython2",
   "version": "2.7.6"
  }
 },
 "nbformat": 4,
 "nbformat_minor": 5
}
