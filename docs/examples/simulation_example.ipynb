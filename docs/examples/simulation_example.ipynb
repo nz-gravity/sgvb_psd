{
 "cells": [
  {
   "metadata": {},
   "cell_type": "markdown",
   "source": [
    "# Simulation Example\n",
    "\n",
    "Here we demonstrate how to use this package to estimate the multivariate PSD of VAR(2) simulated data."
   ],
   "id": "836f96455a77024b"
  },
  {
   "metadata": {
    "ExecuteTime": {
     "end_time": "2024-09-18T03:46:28.569497Z",
     "start_time": "2024-09-18T03:46:25.354998Z"
    }
   },
   "cell_type": "code",
   "source": [
    "import numpy as np\n",
    "import matplotlib.pyplot as plt\n",
    "\n",
    "from sgvb_psd.utils.sim_varma import SimVARMA\n",
    "\n",
    "np.random.seed(0)\n",
    "\n",
    "var2 = SimVARMA(\n",
    "    n_samples=1024,\n",
    "    var_coeffs=np.array([[[0.5, 0.], [0., -0.3]], [[0., 0.], [0., -0.5]]]),\n",
    "    vma_coeffs=np.array([[[1., 0.], [0., 1.]]]),\n",
    "    sigma=np.array([[1., 0.9], [0.9, 1.]])\n",
    ")\n",
    "var2"
   ],
   "id": "c8184a7fdf4c4693",
   "outputs": [
    {
     "data": {
      "text/plain": [
       "<sgvb_psd.utils.sim_varma.SimVARMA at 0x10f170d30>"
      ],
      "text/html": [
       "\n",
       "        <div style=\"font-family: Arial, sans-serif;\">\n",
       "            <h3>VARMA(2, 1) Process</h3>\n",
       "            <p>X<sub>t</sub> = Φ<sub>1</sub>X<sub>t-1</sub> + Φ<sub>2</sub>X<sub>t-2</sub> + ε<sub>t</sub> + Θ<sub>1</sub>ε<sub>t-1</sub></p><p>ε<sub>t</sub> ~ N(0, Σ)</p><h4>VAR coefficients:</h4><p>Φ<sub>1</sub> = <table style='border-collapse: collapse;'><tr><td style='border: 1px solid black; padding: 4px;'>0.50</td><td style='border: 1px solid black; padding: 4px;'>0.00</td></tr><tr><td style='border: 1px solid black; padding: 4px;'>0.00</td><td style='border: 1px solid black; padding: 4px;'>-0.30</td></tr></table></p><p>Φ<sub>2</sub> = <table style='border-collapse: collapse;'><tr><td style='border: 1px solid black; padding: 4px;'>0.00</td><td style='border: 1px solid black; padding: 4px;'>0.00</td></tr><tr><td style='border: 1px solid black; padding: 4px;'>0.00</td><td style='border: 1px solid black; padding: 4px;'>-0.50</td></tr></table></p><h4>VMA coefficients:</h4><p>Θ<sub>1</sub> = <table style='border-collapse: collapse;'><tr><td style='border: 1px solid black; padding: 4px;'>1.00</td><td style='border: 1px solid black; padding: 4px;'>0.00</td></tr><tr><td style='border: 1px solid black; padding: 4px;'>0.00</td><td style='border: 1px solid black; padding: 4px;'>1.00</td></tr></table></p><h4>Covariance matrix:</h4><p>Σ = <table style='border-collapse: collapse;'><tr><td style='border: 1px solid black; padding: 4px;'>1.00</td><td style='border: 1px solid black; padding: 4px;'>0.90</td></tr><tr><td style='border: 1px solid black; padding: 4px;'>0.90</td><td style='border: 1px solid black; padding: 4px;'>1.00</td></tr></table></p></div>"
      ]
     },
     "execution_count": 1,
     "metadata": {},
     "output_type": "execute_result"
    }
   ],
   "execution_count": 1
  },
  {
   "metadata": {
    "ExecuteTime": {
     "end_time": "2024-09-18T04:14:57.688947Z",
     "start_time": "2024-09-18T04:14:55.885095Z"
    }
   },
   "cell_type": "code",
   "source": [
    "var2.plot(\n",
    "    off_symlog=False,\n",
    "    xlims=[0, np.pi]\n",
    ")\n",
    "plt.savefig(f'var2_data.png')\n",
    "plt.close()"
   ],
   "id": "a4e2fe51e90b2d20",
   "outputs": [],
   "execution_count": 30
  },
  {
   "metadata": {},
   "cell_type": "markdown",
   "source": "![VAR(2) Data](var2_data.png)",
   "id": "f74995185167b6ad"
  },
  {
   "metadata": {
    "ExecuteTime": {
     "end_time": "2024-09-18T04:16:54.236670Z",
     "start_time": "2024-09-18T04:15:50.032892Z"
    }
   },
   "cell_type": "code",
   "source": [
    "from sgvb_psd.optimal_psd_estimator import OptimalPSDEstimator\n",
    "\n",
    "optim = OptimalPSDEstimator(\n",
    "    x=var2.data,\n",
    "    N_theta=30, nchunks=1, duration=1,\n",
    "    ntrain_map=1000,  \n",
    "    max_hyperparm_eval=5,\n",
    ")\n",
    "optim.run()\n",
    "_ = optim.plot(\n",
    "    true_psd=[var2.psd, var2.freq], \n",
    "    off_symlog=False,\n",
    "    xlims=[0, np.pi],\n",
    ");\n",
    "plt.savefig(f'var2_psd.png');\n",
    "plt.close()"
   ],
   "id": "6c3a802c89062a10",
   "outputs": [
    {
     "name": "stdout",
     "output_type": "stream",
     "text": [
      "16:15:50|SGVB-PSD|INFO| 1724s |Running hyperopt to find optimal learning rate\n",
      "  0%|          | 0/5 [00:00<?, ?trial/s, best loss=?]16:15:50|SGVB-PSD|DEBUG| 1724s |Inputted data shape: (1024, 2)\n",
      "16:15:50|SGVB-PSD|DEBUG| 1724s |Starting Model Inference Training..\n",
      "16:15:50|SGVB-PSD|DEBUG| 1724s |Start Point Estimating... \n",
      "16:15:53|SGVB-PSD|DEBUG| 1727s |MAP Training Time: 3.04s\n",
      "16:15:53|SGVB-PSD|DEBUG| 1728s |Start UQ training... \n",
      "16:16:02|SGVB-PSD|DEBUG| 1737s |VI Time: 9.23s\n",
      "16:16:02|SGVB-PSD|DEBUG| 1737s |Total Inference Training Time: 12.35s\n",
      " 20%|██        | 1/5 [00:12<00:50, 12.64s/trial, best loss: 934.794189453125]16:16:02|SGVB-PSD|DEBUG| 1737s |Inputted data shape: (1024, 2)\n",
      "16:16:02|SGVB-PSD|DEBUG| 1737s |Starting Model Inference Training..\n",
      "16:16:02|SGVB-PSD|DEBUG| 1737s |Start Point Estimating... \n",
      "16:16:05|SGVB-PSD|DEBUG| 1740s |MAP Training Time: 3.10s\n",
      "16:16:05|SGVB-PSD|DEBUG| 1740s |Start UQ training... \n",
      "16:16:14|SGVB-PSD|DEBUG| 1748s |VI Time: 8.21s\n",
      "16:16:14|SGVB-PSD|DEBUG| 1748s |Total Inference Training Time: 11.39s\n",
      " 40%|████      | 2/5 [00:24<00:36, 12.03s/trial, best loss: 847.5799560546875]16:16:14|SGVB-PSD|DEBUG| 1749s |Inputted data shape: (1024, 2)\n",
      "16:16:14|SGVB-PSD|DEBUG| 1749s |Starting Model Inference Training..\n",
      "16:16:14|SGVB-PSD|DEBUG| 1749s |Start Point Estimating... \n",
      "WARNING:tensorflow:5 out of the last 5 calls to <function SpecVI.runModel.<locals>.train_hs at 0x195966550> triggered tf.function retracing. Tracing is expensive and the excessive number of tracings could be due to (1) creating @tf.function repeatedly in a loop, (2) passing tensors with different shapes, (3) passing Python objects instead of tensors. For (1), please define your @tf.function outside of the loop. For (2), @tf.function has reduce_retracing=True option that can avoid unnecessary retracing. For (3), please refer to https://www.tensorflow.org/guide/function#controlling_retracing and https://www.tensorflow.org/api_docs/python/tf/function for  more details.\n",
      "16:16:16|SGVB-PSD|DEBUG| 1751s |MAP Training Time: 2.57s\n",
      "16:16:17|SGVB-PSD|DEBUG| 1751s |Start UQ training... \n",
      "WARNING:tensorflow:5 out of the last 5 calls to <function SpecVI.runModel.<locals>.<lambda> at 0x1961a5550> triggered tf.function retracing. Tracing is expensive and the excessive number of tracings could be due to (1) creating @tf.function repeatedly in a loop, (2) passing tensors with different shapes, (3) passing Python objects instead of tensors. For (1), please define your @tf.function outside of the loop. For (2), @tf.function has reduce_retracing=True option that can avoid unnecessary retracing. For (3), please refer to https://www.tensorflow.org/guide/function#controlling_retracing and https://www.tensorflow.org/api_docs/python/tf/function for  more details.\n",
      "16:16:26|SGVB-PSD|DEBUG| 1761s |VI Time: 9.33s\n",
      "16:16:26|SGVB-PSD|DEBUG| 1761s |Total Inference Training Time: 11.99s\n",
      " 60%|██████    | 3/5 [00:36<00:24, 12.11s/trial, best loss: 847.5799560546875]16:16:26|SGVB-PSD|DEBUG| 1761s |Inputted data shape: (1024, 2)\n",
      "16:16:26|SGVB-PSD|DEBUG| 1761s |Starting Model Inference Training..\n",
      "16:16:26|SGVB-PSD|DEBUG| 1761s |Start Point Estimating... \n",
      "WARNING:tensorflow:6 out of the last 6 calls to <function SpecVI.runModel.<locals>.train_hs at 0x19733bd30> triggered tf.function retracing. Tracing is expensive and the excessive number of tracings could be due to (1) creating @tf.function repeatedly in a loop, (2) passing tensors with different shapes, (3) passing Python objects instead of tensors. For (1), please define your @tf.function outside of the loop. For (2), @tf.function has reduce_retracing=True option that can avoid unnecessary retracing. For (3), please refer to https://www.tensorflow.org/guide/function#controlling_retracing and https://www.tensorflow.org/api_docs/python/tf/function for  more details.\n",
      "16:16:29|SGVB-PSD|DEBUG| 1764s |MAP Training Time: 3.24s\n",
      "16:16:29|SGVB-PSD|DEBUG| 1764s |Start UQ training... \n",
      "WARNING:tensorflow:6 out of the last 6 calls to <function SpecVI.runModel.<locals>.<lambda> at 0x196b525e0> triggered tf.function retracing. Tracing is expensive and the excessive number of tracings could be due to (1) creating @tf.function repeatedly in a loop, (2) passing tensors with different shapes, (3) passing Python objects instead of tensors. For (1), please define your @tf.function outside of the loop. For (2), @tf.function has reduce_retracing=True option that can avoid unnecessary retracing. For (3), please refer to https://www.tensorflow.org/guide/function#controlling_retracing and https://www.tensorflow.org/api_docs/python/tf/function for  more details.\n",
      "16:16:38|SGVB-PSD|DEBUG| 1773s |VI Time: 8.96s\n",
      "16:16:38|SGVB-PSD|DEBUG| 1773s |Total Inference Training Time: 12.25s\n",
      " 80%|████████  | 4/5 [00:48<00:12, 12.25s/trial, best loss: 847.5799560546875]16:16:39|SGVB-PSD|DEBUG| 1773s |Inputted data shape: (1024, 2)\n",
      "16:16:39|SGVB-PSD|DEBUG| 1773s |Starting Model Inference Training..\n",
      "16:16:39|SGVB-PSD|DEBUG| 1773s |Start Point Estimating... \n",
      "16:16:42|SGVB-PSD|DEBUG| 1777s |MAP Training Time: 3.16s\n",
      "16:16:42|SGVB-PSD|DEBUG| 1777s |Start UQ training... \n",
      "16:16:51|SGVB-PSD|DEBUG| 1786s |VI Time: 9.61s\n",
      "16:16:51|SGVB-PSD|DEBUG| 1786s |Total Inference Training Time: 12.85s\n",
      "100%|██████████| 5/5 [01:01<00:00, 12.39s/trial, best loss: 846.5023803710938]\n",
      "16:16:52|SGVB-PSD|INFO| 1786s |Optimal learning rate found in 61.97s\n",
      "16:16:52|SGVB-PSD|INFO| 1786s |Computing optimal PSD estimation\n",
      "WARNING:tensorflow:AutoGraph could not transform <function OptimalPSDEstimator._compute_spectral_density.<locals>.<lambda> at 0x199ee7e50> and will run it as-is.\n",
      "Please report this to the TensorFlow team. When filing the bug, set the verbosity to 10 (on Linux, `export AUTOGRAPH_VERBOSITY=10`) and attach the full output.\n",
      "Cause: expected an indented block (<unknown>, line 333)\n",
      "To silence this warning, decorate the function with @tf.autograph.experimental.do_not_convert\n",
      "WARNING: AutoGraph could not transform <function OptimalPSDEstimator._compute_spectral_density.<locals>.<lambda> at 0x199ee7e50> and will run it as-is.\n",
      "Please report this to the TensorFlow team. When filing the bug, set the verbosity to 10 (on Linux, `export AUTOGRAPH_VERBOSITY=10`) and attach the full output.\n",
      "Cause: expected an indented block (<unknown>, line 333)\n",
      "To silence this warning, decorate the function with @tf.autograph.experimental.do_not_convert\n",
      "16:16:53|SGVB-PSD|INFO| 1787s |Optimal PSD estimation complete in 0.92s\n"
     ]
    }
   ],
   "execution_count": 32
  },
  {
   "metadata": {},
   "cell_type": "markdown",
   "source": "![VAR(2) PSD](var2_psd.png)",
   "id": "e4d0057dea5cffcd"
  },
  {
   "metadata": {
    "ExecuteTime": {
     "end_time": "2024-09-18T05:11:35.146336Z",
     "start_time": "2024-09-18T05:11:23.410802Z"
    }
   },
   "cell_type": "code",
   "source": [
    "_ = optim.plot_coherence(\n",
    "    true_psd=[var2.psd, var2.freq], \n",
    "    labels='XY'\n",
    "    \n",
    ")\n",
    "plt.savefig(f'var2_coh.png');\n",
    "plt.close()"
   ],
   "id": "262bfc7e5630064f",
   "outputs": [
    {
     "name": "stderr",
     "output_type": "stream",
     "text": [
      "[autoreload of pygments.token failed: Traceback (most recent call last):\n",
      "  File \"/Users/avaj0001/Documents/projects/deep_gw_pe_followup/venv/lib/python3.9/site-packages/IPython/extensions/autoreload.py\", line 245, in check\n",
      "    superreload(m, reload, self.old_objects)\n",
      "  File \"/Users/avaj0001/Documents/projects/deep_gw_pe_followup/venv/lib/python3.9/site-packages/IPython/extensions/autoreload.py\", line 410, in superreload\n",
      "    update_generic(old_obj, new_obj)\n",
      "  File \"/Users/avaj0001/Documents/projects/deep_gw_pe_followup/venv/lib/python3.9/site-packages/IPython/extensions/autoreload.py\", line 347, in update_generic\n",
      "    update(a, b)\n",
      "  File \"/Users/avaj0001/Documents/projects/deep_gw_pe_followup/venv/lib/python3.9/site-packages/IPython/extensions/autoreload.py\", line 317, in update_class\n",
      "    update_instances(old, new)\n",
      "  File \"/Users/avaj0001/Documents/projects/deep_gw_pe_followup/venv/lib/python3.9/site-packages/IPython/extensions/autoreload.py\", line 280, in update_instances\n",
      "    ref.__class__ = new\n",
      "TypeError: __class__ assignment: '_TokenType' object layout differs from '_TokenType'\n",
      "]\n",
      "[autoreload of pygments.lexer failed: Traceback (most recent call last):\n",
      "  File \"/Users/avaj0001/Documents/projects/deep_gw_pe_followup/venv/lib/python3.9/site-packages/IPython/extensions/autoreload.py\", line 245, in check\n",
      "    superreload(m, reload, self.old_objects)\n",
      "  File \"/Users/avaj0001/Documents/projects/deep_gw_pe_followup/venv/lib/python3.9/site-packages/IPython/extensions/autoreload.py\", line 410, in superreload\n",
      "    update_generic(old_obj, new_obj)\n",
      "  File \"/Users/avaj0001/Documents/projects/deep_gw_pe_followup/venv/lib/python3.9/site-packages/IPython/extensions/autoreload.py\", line 347, in update_generic\n",
      "    update(a, b)\n",
      "  File \"/Users/avaj0001/Documents/projects/deep_gw_pe_followup/venv/lib/python3.9/site-packages/IPython/extensions/autoreload.py\", line 317, in update_class\n",
      "    update_instances(old, new)\n",
      "  File \"/Users/avaj0001/Documents/projects/deep_gw_pe_followup/venv/lib/python3.9/site-packages/IPython/extensions/autoreload.py\", line 280, in update_instances\n",
      "    ref.__class__ = new\n",
      "TypeError: __class__ assignment: 'combined' object layout differs from 'combined'\n",
      "]\n",
      "[autoreload of pygments.lexers.python failed: Traceback (most recent call last):\n",
      "  File \"/Users/avaj0001/Documents/projects/deep_gw_pe_followup/venv/lib/python3.9/site-packages/IPython/extensions/autoreload.py\", line 245, in check\n",
      "    superreload(m, reload, self.old_objects)\n",
      "  File \"/Users/avaj0001/Documents/projects/deep_gw_pe_followup/venv/lib/python3.9/site-packages/IPython/extensions/autoreload.py\", line 410, in superreload\n",
      "    update_generic(old_obj, new_obj)\n",
      "  File \"/Users/avaj0001/Documents/projects/deep_gw_pe_followup/venv/lib/python3.9/site-packages/IPython/extensions/autoreload.py\", line 347, in update_generic\n",
      "    update(a, b)\n",
      "  File \"/Users/avaj0001/Documents/projects/deep_gw_pe_followup/venv/lib/python3.9/site-packages/IPython/extensions/autoreload.py\", line 302, in update_class\n",
      "    if update_generic(old_obj, new_obj): continue\n",
      "  File \"/Users/avaj0001/Documents/projects/deep_gw_pe_followup/venv/lib/python3.9/site-packages/IPython/extensions/autoreload.py\", line 347, in update_generic\n",
      "    update(a, b)\n",
      "  File \"/Users/avaj0001/Documents/projects/deep_gw_pe_followup/venv/lib/python3.9/site-packages/IPython/extensions/autoreload.py\", line 266, in update_function\n",
      "    setattr(old, name, getattr(new, name))\n",
      "ValueError: __init__() requires a code object with 0 free vars, not 1\n",
      "]\n"
     ]
    },
    {
     "name": "stdout",
     "output_type": "stream",
     "text": [
      "17:11:34|SGVB-PSD|DEBUG| 5069s |pxy shape: (500, 512), coh shape: (500, 512)\n",
      "17:11:34|SGVB-PSD|DEBUG| 5069s |pxy shape: (512,), coh shape: (512,)\n"
     ]
    }
   ],
   "execution_count": 50
  },
  {
   "metadata": {},
   "cell_type": "markdown",
   "source": "![VAR(2) Coherence](var2_coh.png)",
   "id": "ef32f19b8ccaefec"
  },
  {
   "metadata": {},
   "cell_type": "code",
   "outputs": [],
   "execution_count": null,
   "source": "",
   "id": "71e4003174a639c2"
  }
 ],
 "metadata": {
  "kernelspec": {
   "display_name": "Python 3",
   "language": "python",
   "name": "python3"
  },
  "language_info": {
   "codemirror_mode": {
    "name": "ipython",
    "version": 2
   },
   "file_extension": ".py",
   "mimetype": "text/x-python",
   "name": "python",
   "nbconvert_exporter": "python",
   "pygments_lexer": "ipython2",
   "version": "2.7.6"
  }
 },
 "nbformat": 4,
 "nbformat_minor": 5
}
