{
 "cells": [
  {
   "metadata": {},
   "cell_type": "markdown",
   "source": [
    "# Simulation Example\n",
    "\n",
    "Here we demonstrate how to use this package to estimate the multivariate PSD of VAR(2) simulated data."
   ],
   "id": "836f96455a77024b"
  },
  {
   "metadata": {
    "ExecuteTime": {
     "end_time": "2024-09-19T04:44:50.224242Z",
     "start_time": "2024-09-19T04:44:46.761061Z"
    }
   },
   "cell_type": "code",
   "source": [
    "import numpy as np\n",
    "import matplotlib.pyplot as plt\n",
    "\n",
    "from sgvb_psd.utils.sim_varma import SimVARMA\n",
    "\n",
    "np.random.seed(0)\n",
    "\n",
    "var2 = SimVARMA(\n",
    "    n_samples=1024,\n",
    "    var_coeffs=np.array([[[0.5, 0.], [0., -0.3]], [[0., 0.], [0., -0.5]]]),\n",
    "    vma_coeffs=np.array([[[1., 0.], [0., 1.]]]),\n",
    "    sigma=np.array([[1., 0.9], [0.9, 1.]])\n",
    ")\n",
    "var2"
   ],
   "id": "c8184a7fdf4c4693",
   "outputs": [
    {
     "name": "stderr",
     "output_type": "stream",
     "text": [
      "2024-09-19 16:44:47.530063: I tensorflow/core/util/port.cc:153] oneDNN custom operations are on. You may see slightly different numerical results due to floating-point round-off errors from different computation orders. To turn them off, set the environment variable `TF_ENABLE_ONEDNN_OPTS=0`.\n",
      "2024-09-19 16:44:47.540264: I external/local_xla/xla/tsl/cuda/cudart_stub.cc:32] Could not find cuda drivers on your machine, GPU will not be used.\n",
      "2024-09-19 16:44:47.614449: I external/local_xla/xla/tsl/cuda/cudart_stub.cc:32] Could not find cuda drivers on your machine, GPU will not be used.\n",
      "2024-09-19 16:44:47.688938: E external/local_xla/xla/stream_executor/cuda/cuda_fft.cc:485] Unable to register cuFFT factory: Attempting to register factory for plugin cuFFT when one has already been registered\n",
      "2024-09-19 16:44:47.751000: E external/local_xla/xla/stream_executor/cuda/cuda_dnn.cc:8454] Unable to register cuDNN factory: Attempting to register factory for plugin cuDNN when one has already been registered\n",
      "2024-09-19 16:44:47.776398: E external/local_xla/xla/stream_executor/cuda/cuda_blas.cc:1452] Unable to register cuBLAS factory: Attempting to register factory for plugin cuBLAS when one has already been registered\n",
      "2024-09-19 16:44:47.894382: I tensorflow/core/platform/cpu_feature_guard.cc:210] This TensorFlow binary is optimized to use available CPU instructions in performance-critical operations.\n",
      "To enable the following instructions: AVX2 AVX_VNNI FMA, in other operations, rebuild TensorFlow with the appropriate compiler flags.\n",
      "2024-09-19 16:44:48.758140: W tensorflow/compiler/tf2tensorrt/utils/py_utils.cc:38] TF-TRT Warning: Could not find TensorRT\n"
     ]
    },
    {
     "name": "stdout",
     "output_type": "stream",
     "text": [
      "16:44:49|SGVB-PSD|INFO| No GPU detected. Running on CPU.\n"
     ]
    },
    {
     "data": {
      "text/plain": [
       "<sgvb_psd.utils.sim_varma.SimVARMA at 0x7fc98af77e50>"
      ],
      "text/html": [
       "\n",
       "        <div style=\"font-family: Arial, sans-serif;\">\n",
       "            <h3>VARMA(2, 1) Process</h3>\n",
       "            <p>X<sub>t</sub> = Φ<sub>1</sub>X<sub>t-1</sub> + Φ<sub>2</sub>X<sub>t-2</sub> + ε<sub>t</sub> + Θ<sub>1</sub>ε<sub>t-1</sub></p><p>ε<sub>t</sub> ~ N(0, Σ)</p><h4>VAR coefficients:</h4><p>Φ<sub>1</sub> = <table style='border-collapse: collapse;'><tr><td style='border: 1px solid black; padding: 4px;'>0.50</td><td style='border: 1px solid black; padding: 4px;'>0.00</td></tr><tr><td style='border: 1px solid black; padding: 4px;'>0.00</td><td style='border: 1px solid black; padding: 4px;'>-0.30</td></tr></table></p><p>Φ<sub>2</sub> = <table style='border-collapse: collapse;'><tr><td style='border: 1px solid black; padding: 4px;'>0.00</td><td style='border: 1px solid black; padding: 4px;'>0.00</td></tr><tr><td style='border: 1px solid black; padding: 4px;'>0.00</td><td style='border: 1px solid black; padding: 4px;'>-0.50</td></tr></table></p><h4>VMA coefficients:</h4><p>Θ<sub>1</sub> = <table style='border-collapse: collapse;'><tr><td style='border: 1px solid black; padding: 4px;'>1.00</td><td style='border: 1px solid black; padding: 4px;'>0.00</td></tr><tr><td style='border: 1px solid black; padding: 4px;'>0.00</td><td style='border: 1px solid black; padding: 4px;'>1.00</td></tr></table></p><h4>Covariance matrix:</h4><p>Σ = <table style='border-collapse: collapse;'><tr><td style='border: 1px solid black; padding: 4px;'>1.00</td><td style='border: 1px solid black; padding: 4px;'>0.90</td></tr><tr><td style='border: 1px solid black; padding: 4px;'>0.90</td><td style='border: 1px solid black; padding: 4px;'>1.00</td></tr></table></p></div>"
      ]
     },
     "execution_count": 1,
     "metadata": {},
     "output_type": "execute_result"
    }
   ],
   "execution_count": 1
  },
  {
   "metadata": {
    "ExecuteTime": {
     "end_time": "2024-09-19T04:44:51.195432Z",
     "start_time": "2024-09-19T04:44:50.236120Z"
    }
   },
   "cell_type": "code",
   "source": [
    "var2.plot(\n",
    "    off_symlog=False,\n",
    "    xlims=[0, np.pi]\n",
    ")\n",
    "plt.savefig(f'var2_data.png')\n",
    "plt.close();"
   ],
   "id": "a4e2fe51e90b2d20",
   "outputs": [],
   "execution_count": 2
  },
  {
   "metadata": {},
   "cell_type": "markdown",
   "source": "![VAR(2) Data](var2_data.png)",
   "id": "f74995185167b6ad"
  },
  {
   "metadata": {
    "ExecuteTime": {
     "end_time": "2024-09-19T04:45:04.078695Z",
     "start_time": "2024-09-19T04:44:51.319459Z"
    }
   },
   "cell_type": "code",
   "source": [
    "from sgvb_psd.psd_estimator import PSDEstimator\n",
    "\n",
    "optim = PSDEstimator(\n",
    "    x=var2.data,\n",
    "    N_theta=30, nchunks=1, \n",
    "    ntrain_map=1000,  \n",
    "    max_hyperparm_eval=5,\n",
    "    fs=2*np.pi,\n",
    ")\n",
    "optim.run(lr=0.003)\n",
    "_ = optim.plot(\n",
    "    true_psd=[var2.psd, var2.freq], \n",
    "    off_symlog=False,\n",
    "    xlims=[0, np.pi],\n",
    ");\n",
    "\n",
    "plt.savefig(f'var2_psd.png');\n",
    "plt.close()\n",
    "\n",
    "_ = optim.plot_coherence(\n",
    "    true_psd=[var2.psd, var2.freq],\n",
    "    labels='XY'\n",
    ")\n",
    "plt.savefig(f'var2_coh.png');\n",
    "plt.close()\n",
    "\n",
    "_ = optim.plot_vi_losses()\n",
    "plt.savefig(f'var2_vi_losses.png');\n",
    "plt.close()"
   ],
   "id": "6c3a802c89062a10",
   "outputs": [
    {
     "name": "stdout",
     "output_type": "stream",
     "text": [
      "16:44:52|SGVB-PSD|INFO| Final PSD will be of shape: 512 x 2 x 2\n",
      "16:44:52|SGVB-PSD|DEBUG| Inputted data shape: (1024, 2)\n",
      "16:44:52|SGVB-PSD|DEBUG| Model instantiated: SpecPrep(x(t)=(1024, 2), y(f)=(1, 512, 2), Xmat_delta=(512, 32), Xmat_theta=(512, 32))\n",
      "16:44:52|SGVB-PSD|INFO| Using provided learning rate: 0.003\n",
      "16:44:52|SGVB-PSD|INFO| Training model\n",
      "16:44:52|SGVB-PSD|DEBUG| Starting Model Inference Training..\n",
      "16:44:52|SGVB-PSD|DEBUG| Start Point Estimating... \n",
      "16:44:55|SGVB-PSD|DEBUG| MAP Training Time: 3.32s\n",
      "16:44:55|SGVB-PSD|DEBUG| Start ELBO maximisation... \n",
      "16:45:02|SGVB-PSD|DEBUG| VI Time: 6.29s\n",
      "16:45:02|SGVB-PSD|DEBUG| Total Inference Training Time: 9.85s\n",
      "16:45:02|SGVB-PSD|INFO| Model trained in 10.06s\n",
      "16:45:02|SGVB-PSD|INFO| Computing posterior PSDs\n",
      "16:45:03|SGVB-PSD|INFO| Optimal PSD estimation complete in 0.88s\n"
     ]
    }
   ],
   "execution_count": 3
  },
  {
   "metadata": {},
   "cell_type": "markdown",
   "source": [
    "![VAR(2) PSD](var2_psd.png)\n",
    "\n",
    "![VAR(2) Coherence](var2_coh.png)\n",
    "\n",
    "![VAR(2) VI Losses](var2_vi_losses.png)"
   ],
   "id": "e4d0057dea5cffcd"
  }
 ],
 "metadata": {
  "kernelspec": {
   "display_name": "Python 3",
   "language": "python",
   "name": "python3"
  },
  "language_info": {
   "codemirror_mode": {
    "name": "ipython",
    "version": 2
   },
   "file_extension": ".py",
   "mimetype": "text/x-python",
   "name": "python",
   "nbconvert_exporter": "python",
   "pygments_lexer": "ipython2",
   "version": "2.7.6"
  }
 },
 "nbformat": 4,
 "nbformat_minor": 5
}
