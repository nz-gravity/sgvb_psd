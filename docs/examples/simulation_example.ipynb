{
 "cells": [
  {
   "metadata": {},
   "cell_type": "markdown",
   "source": [
    "# Simulation Example\n",
    "\n",
    "Here we demonstrate how to use this package to estimate the multivariate PSD of VAR(2) simulated data."
   ],
   "id": "836f96455a77024b"
  },
  {
   "metadata": {
    "ExecuteTime": {
     "end_time": "2024-09-09T06:07:15.797223Z",
     "start_time": "2024-09-09T06:07:14.897728Z"
    }
   },
   "cell_type": "code",
   "source": [
    "import numpy as np\n",
    "import matplotlib.pyplot as plt\n",
    "\n",
    "from sgvb_psd.utils.sim_varma import SimVARMA\n",
    "\n",
    "np.random.seed(0)\n",
    "\n",
    "var2 = SimVARMA(\n",
    "    n_samples=1024,\n",
    "    var_coeffs=np.array([[[0.5, 0.], [0., -0.3]], [[0., 0.], [0., -0.5]]]),\n",
    "    vma_coeffs=np.array([[[1., 0.], [0., 1.]]]),\n",
    "    sigma=np.array([[1., 0.9], [0.9, 1.]])\n",
    ")\n",
    "var2"
   ],
   "id": "c8184a7fdf4c4693",
   "outputs": [
    {
     "data": {
      "text/plain": [
       "<sgvb_psd.utils.sim_varma.SimVARMA at 0x7fecd40f59c0>"
      ],
      "text/html": [
       "\n",
       "        <div style=\"font-family: Arial, sans-serif;\">\n",
       "            <h3>VARMA(2, 1) Process</h3>\n",
       "            <p>X<sub>t</sub> = Φ<sub>1</sub>X<sub>t-1</sub> + Φ<sub>2</sub>X<sub>t-2</sub> + ε<sub>t</sub> + Θ<sub>1</sub>ε<sub>t-1</sub></p><p>ε<sub>t</sub> ~ N(0, Σ)</p><h4>VAR coefficients:</h4><p>Φ<sub>1</sub> = <table style='border-collapse: collapse;'><tr><td style='border: 1px solid black; padding: 4px;'>0.50</td><td style='border: 1px solid black; padding: 4px;'>0.00</td></tr><tr><td style='border: 1px solid black; padding: 4px;'>0.00</td><td style='border: 1px solid black; padding: 4px;'>-0.30</td></tr></table></p><p>Φ<sub>2</sub> = <table style='border-collapse: collapse;'><tr><td style='border: 1px solid black; padding: 4px;'>0.00</td><td style='border: 1px solid black; padding: 4px;'>0.00</td></tr><tr><td style='border: 1px solid black; padding: 4px;'>0.00</td><td style='border: 1px solid black; padding: 4px;'>-0.50</td></tr></table></p><h4>VMA coefficients:</h4><p>Θ<sub>1</sub> = <table style='border-collapse: collapse;'><tr><td style='border: 1px solid black; padding: 4px;'>1.00</td><td style='border: 1px solid black; padding: 4px;'>0.00</td></tr><tr><td style='border: 1px solid black; padding: 4px;'>0.00</td><td style='border: 1px solid black; padding: 4px;'>1.00</td></tr></table></p><h4>Covariance matrix:</h4><p>Σ = <table style='border-collapse: collapse;'><tr><td style='border: 1px solid black; padding: 4px;'>1.00</td><td style='border: 1px solid black; padding: 4px;'>0.90</td></tr><tr><td style='border: 1px solid black; padding: 4px;'>0.90</td><td style='border: 1px solid black; padding: 4px;'>1.00</td></tr></table></p></div>"
      ]
     },
     "execution_count": 1,
     "metadata": {},
     "output_type": "execute_result"
    }
   ],
   "execution_count": 1
  },
  {
   "metadata": {
    "ExecuteTime": {
     "end_time": "2024-09-09T06:07:16.535930Z",
     "start_time": "2024-09-09T06:07:15.803323Z"
    }
   },
   "cell_type": "code",
   "source": [
    "var2.plot()\n",
    "plt.savefig(f'var2_data.png')\n",
    "plt.close()"
   ],
   "id": "a4e2fe51e90b2d20",
   "outputs": [
    {
     "name": "stderr",
     "output_type": "stream",
     "text": [
      "/home/avaj040/Documents/projects/sgvb_psd/src/sgvb_psd/postproc/plot_psd.py:180: UserWarning: Attempt to set non-positive ylim on a log-scaled axis will be ignored.\n",
      "  ax.set_ylim(diag_ylims)\n"
     ]
    }
   ],
   "execution_count": 2
  },
  {
   "metadata": {},
   "cell_type": "markdown",
   "source": "![VAR(2) Data](var2_data.png)",
   "id": "f74995185167b6ad"
  },
  {
   "metadata": {
    "ExecuteTime": {
     "end_time": "2024-09-09T06:07:29.295155Z",
     "start_time": "2024-09-09T06:07:16.622675Z"
    }
   },
   "cell_type": "code",
   "source": [
    "from sgvb_psd.optimal_psd_estimator import OptimalPSDEstimator\n",
    "\n",
    "optim = OptimalPSDEstimator(\n",
    "    N_theta=30, nchunks=1, duration=1,\n",
    "    ntrain_map=100, x=var2.data, max_hyperparm_eval=1\n",
    ")\n",
    "optim.run()\n",
    "_ = optim.plot(true_psd=[var2.psd, var2.freq], off_symlog=False);\n",
    "plt.savefig(f'var2_psd.png');\n",
    "plt.close()"
   ],
   "id": "6c3a802c89062a10",
   "outputs": [
    {
     "name": "stderr",
     "output_type": "stream",
     "text": [
      "2024-09-09 18:07:16.954722: I tensorflow/core/util/port.cc:153] oneDNN custom operations are on. You may see slightly different numerical results due to floating-point round-off errors from different computation orders. To turn them off, set the environment variable `TF_ENABLE_ONEDNN_OPTS=0`.\n",
      "2024-09-09 18:07:16.962414: I external/local_xla/xla/tsl/cuda/cudart_stub.cc:32] Could not find cuda drivers on your machine, GPU will not be used.\n",
      "2024-09-09 18:07:17.047489: I external/local_xla/xla/tsl/cuda/cudart_stub.cc:32] Could not find cuda drivers on your machine, GPU will not be used.\n",
      "2024-09-09 18:07:17.137065: E external/local_xla/xla/stream_executor/cuda/cuda_fft.cc:485] Unable to register cuFFT factory: Attempting to register factory for plugin cuFFT when one has already been registered\n",
      "2024-09-09 18:07:17.198193: E external/local_xla/xla/stream_executor/cuda/cuda_dnn.cc:8454] Unable to register cuDNN factory: Attempting to register factory for plugin cuDNN when one has already been registered\n",
      "2024-09-09 18:07:17.217788: E external/local_xla/xla/stream_executor/cuda/cuda_blas.cc:1452] Unable to register cuBLAS factory: Attempting to register factory for plugin cuBLAS when one has already been registered\n",
      "2024-09-09 18:07:17.340972: I tensorflow/core/platform/cpu_feature_guard.cc:210] This TensorFlow binary is optimized to use available CPU instructions in performance-critical operations.\n",
      "To enable the following instructions: AVX2 AVX_VNNI FMA, in other operations, rebuild TensorFlow with the appropriate compiler flags.\n",
      "2024-09-09 18:07:18.476309: W tensorflow/compiler/tf2tensorrt/utils/py_utils.cc:38] TF-TRT Warning: Could not find TensorRT\n"
     ]
    },
    {
     "name": "stdout",
     "output_type": "stream",
     "text": [
      "  0%|          | 0/1 [00:00<?, ?trial/s, best loss=?]|18:07:19|SGVB-PSD|DEBUG| Inputted data shape: (1024, 2)\n",
      "|18:07:19|SGVB-PSD|INFO| Start Model Inference Training: \n",
      "|18:07:19|SGVB-PSD|INFO| Start Point Estimating: \n",
      "|18:07:21|SGVB-PSD|INFO| MAP Training Time: 2.36s\n",
      "|18:07:22|SGVB-PSD|INFO| Start UQ training: \n",
      "|18:07:27|SGVB-PSD|INFO| VI Time: 5.78s\n",
      "|18:07:27|SGVB-PSD|INFO| Total Inference Training Time: 8.20s\n",
      "100%|██████████| 1/1 [00:08<00:00,  8.40s/trial, best loss: 915.7213134765625]\n"
     ]
    },
    {
     "name": "stderr",
     "output_type": "stream",
     "text": [
      "/home/avaj040/Documents/projects/sgvb_psd/src/sgvb_psd/postproc/plot_psd.py:180: UserWarning: Attempt to set non-positive ylim on a log-scaled axis will be ignored.\n",
      "  ax.set_ylim(diag_ylims)\n"
     ]
    }
   ],
   "execution_count": 3
  },
  {
   "metadata": {},
   "cell_type": "markdown",
   "source": "![VAR(2) PSD](var2_psd.png)",
   "id": "e4d0057dea5cffcd"
  }
 ],
 "metadata": {
  "kernelspec": {
   "display_name": "Python 3",
   "language": "python",
   "name": "python3"
  },
  "language_info": {
   "codemirror_mode": {
    "name": "ipython",
    "version": 2
   },
   "file_extension": ".py",
   "mimetype": "text/x-python",
   "name": "python",
   "nbconvert_exporter": "python",
   "pygments_lexer": "ipython2",
   "version": "2.7.6"
  }
 },
 "nbformat": 4,
 "nbformat_minor": 5
}
