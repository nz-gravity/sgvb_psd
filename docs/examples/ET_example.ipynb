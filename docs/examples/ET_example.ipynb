{
 "cells": [
  {
   "metadata": {},
   "cell_type": "markdown",
   "source": [
    "# ET Example\n",
    "\n",
    "Here we have an example of how to use this package to estimate a PSD from ET data.\n",
    "The data is a small subset of the ET data used in the paper for this work."
   ],
   "id": "2e133c694e532bf6"
  },
  {
   "metadata": {
    "ExecuteTime": {
     "end_time": "2024-09-19T04:05:09.806054Z",
     "start_time": "2024-09-19T04:03:32.002933Z"
    }
   },
   "cell_type": "code",
   "source": [
    "import time\n",
    "import h5py\n",
    "import os\n",
    "import matplotlib.pyplot as plt\n",
    "import numpy as np\n",
    "from sgvb_psd.psd_estimator import PSDEstimator\n",
    "import urllib.request\n",
    "\n",
    "\n",
    "def load_et_data() -> np.ndarray:\n",
    "    \"\"\"\n",
    "    Return (n_samples, 3) array of XYZ channels\n",
    "    \"\"\"\n",
    "    fname = \"et_data.h5\"\n",
    "    # Download the data if it does not exist\n",
    "    if not os.path.exists(fname):\n",
    "        urllib.request.urlretrieve(\n",
    "            \"https://github.com/nz-gravity/sgvb_psd/raw/main/docs/examples/et_data.h5\",\n",
    "            fname,\n",
    "        )\n",
    "\n",
    "    with h5py.File(\"et_data.h5\", \"r\") as f:\n",
    "        channels = np.column_stack([f[\"X\"][:], f[\"Y\"][:], f[\"Z\"][:]])\n",
    "        return channels\n",
    "\n",
    "\n",
    "data = load_et_data()\n",
    "\n",
    "N_theta = 400\n",
    "start_time = time.time()\n",
    "optim = PSDEstimator(\n",
    "    x=data,\n",
    "    N_theta=N_theta,\n",
    "    nchunks=128,\n",
    "    fs=2048,\n",
    "    ntrain_map=1000,\n",
    "    fmax_for_analysis=128,\n",
    "    degree_fluctuate=N_theta,\n",
    "    seed=0,\n",
    ")\n",
    "\n",
    "optim.run(lr=0.003)  # remove lr to run-hyperoptimisation (takes a long time)\n",
    "end_time = time.time()\n",
    "estimation_time = end_time - start_time\n",
<<<<<<< HEAD
    "print(f'The estimation time is {estimation_time:.2f}s')"
   ],
   "id": "2bf5e8adea9ea72a",
   "outputs": [
    {
     "name": "stdout",
     "output_type": "stream",
     "text": [
      "16:03:32|SGVB-PSD|DEBUG| 81921s |Seed set to 0\n",
      "16:03:33|SGVB-PSD|INFO| 81922s |Dividing data (524288, 3) into (128, 4096, 3) chunks\n",
      "16:03:33|SGVB-PSD|INFO| 81922s |Reducing the number of frequencies to be analyzed from 2048 to 128...\n",
      "16:03:33|SGVB-PSD|INFO| 81922s |Final PSD will be of shape: 256 x 3 x 3\n",
      "16:03:33|SGVB-PSD|DEBUG| 81922s |Inputted data shape: (524288, 3)\n",
      "16:03:33|SGVB-PSD|DEBUG| 81922s |Model instantiated: SpecPrep(x(t)=(524288, 3), y(f)=(128, 256, 3), Xmat_delta=(256, 402), Xmat_theta=(256, 402))\n",
      "16:03:33|SGVB-PSD|INFO| 81922s |Using provided learning rate: 0.003\n",
      "16:03:33|SGVB-PSD|INFO| 81922s |Training model\n",
      "16:03:33|SGVB-PSD|DEBUG| 81922s |Starting Model Inference Training..\n",
      "16:03:33|SGVB-PSD|DEBUG| 81922s |Start Point Estimating... \n",
      "16:04:29|SGVB-PSD|DEBUG| 81978s |MAP Training Time: 56.06s\n",
      "16:04:29|SGVB-PSD|DEBUG| 81978s |Start ELBO maximisation... \n",
      "16:05:07|SGVB-PSD|DEBUG| 82015s |VI Time: 37.13s\n",
      "16:05:07|SGVB-PSD|DEBUG| 82015s |Total Inference Training Time: 93.29s\n",
      "16:05:07|SGVB-PSD|INFO| 82015s |Model trained in 93.59s\n",
      "16:05:07|SGVB-PSD|INFO| 82015s |Computing posterior PSDs\n",
      "16:05:07|SGVB-PSD|INFO| 82016s |Optimal PSD estimation complete in 0.63s\n",
      "The estimation time is 95.29s\n"
     ]
    }
   ],
   "execution_count": 14
  },
  {
   "metadata": {
    "ExecuteTime": {
     "end_time": "2024-09-19T04:43:55.574325Z",
     "start_time": "2024-09-19T04:43:53.569171Z"
    }
   },
   "cell_type": "code",
   "source": [
    "optim.plot_coherence(labels='XYZ')\n",
=======
    "print(f\"The estimation time is {estimation_time:.2f}s\")\n",
    "\n",
    "optim.plot_coherence(labels=\"XYZ\")\n",
>>>>>>> 59b39b6fa8e8cec312124d3a7109e5996ed3f228
    "plt.savefig(\"ET_coherence.png\")\n",
    "plt.close()\n",
    "\n",
    "optim.plot(xlims=[5, 128], labels=\"XYZ\")\n",
    "plt.savefig(\"ET_psd.png\")\n",
    "plt.close()\n",
    "\n",
    "optim.plot_vi_losses()\n",
    "plt.savefig(\"ET_vi_losses.png\")\n",
    "plt.close()"
   ],
   "id": "a7efca87580236bc",
   "outputs": [],
   "execution_count": 29
  },
  {
   "metadata": {},
   "cell_type": "markdown",
   "source": [
    "![ET PSD](ET_psd.png)\n",
    "\n",
    "\n",
    "![ET Coherence](ET_coherence.png)\n",
    "\n",
    "\n",
    "![ET VI Losses](ET_vi_losses.png)"
   ],
   "id": "f3f69c6424e37ea8"
  }
 ],
 "metadata": {
  "kernelspec": {
   "display_name": "Python 3",
   "language": "python",
   "name": "python3"
  },
  "language_info": {
   "codemirror_mode": {
    "name": "ipython",
    "version": 2
   },
   "file_extension": ".py",
   "mimetype": "text/x-python",
   "name": "python",
   "nbconvert_exporter": "python",
   "pygments_lexer": "ipython2",
   "version": "2.7.6"
  }
 },
 "nbformat": 4,
 "nbformat_minor": 5
}
