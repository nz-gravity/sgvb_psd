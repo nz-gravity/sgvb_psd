{
 "cells": [
  {
   "metadata": {},
   "cell_type": "markdown",
   "source": [
    "# ET Example\n",
    "\n"
   ],
   "id": "ccec23bc5b1eae83"
  },
  {
   "metadata": {},
   "cell_type": "code",
   "outputs": [],
   "execution_count": null,
   "source": [
    "%load_ext autoreload\n",
    "%autoreload 2\n",
    "\n",
    "import os\n",
    "import time\n",
    "import h5py\n",
    "import matplotlib.pyplot as plt\n",
    "import numpy as np\n",
    "from sgvb_psd.optimal_psd_estimator import OptimalPSDEstimator\n",
    "\n",
    "HERE = os.path.dirname(os.path.abspath(__file__))\n",
    "\n",
    "def load_et_data() -> np.ndarray:\n",
    "    \"\"\"\n",
    "    Return (n_samples, 3) array of XYZ channels\n",
    "    \"\"\"\n",
    "    files_and_keys = [\n",
    "        (\"data/X_ETnoise_GP.hdf5\", 'E1:STRAIN'),\n",
    "        (\"data/Y_ETnoise_GP.hdf5\", 'E2:STRAIN'),\n",
    "        (\"data/Z_ETnoise_GP.hdf5\", 'E3:STRAIN')\n",
    "    ]\n",
    "    channels = [h5py.File(os.path.join(HERE, file), \"r\")[key][:] for file, key in files_and_keys]\n",
    "    return np.column_stack(channels)\n",
    "\n",
    "data = load_et_data()\n",
    "N_theta = 100\n",
    "fmax_for_analysis = 128\n",
    "start_time = time.time()\n",
    "optim = OptimalPSDEstimator(\n",
    "    N_theta=N_theta,\n",
    "    nchunks=125,\n",
    "    duration=2000,\n",
    "    ntrain_map=100,\n",
    "    x=data,\n",
    "    max_hyperparm_eval=1,\n",
    "    fmax_for_analysis=fmax_for_analysis,\n",
    "    degree_fluctuate=N_theta,\n",
    "    seed=0,\n",
    ")\n",
    "\n",
    "\n",
    "end_time = time.time()\n",
    "estimation_time = end_time - start_time\n",
    "print('The estimation time is', estimation_time, 'seconds')\n",
    "\n",
    "optim.plot_coherence(labels='XYZ')\n",
    "plt.savefig(\"ET_coherence.png\")"
   ],
   "id": "9c594357c2d4121"
  }
 ],
 "metadata": {
  "kernelspec": {
   "display_name": "Python 3",
   "language": "python",
   "name": "python3"
  },
  "language_info": {
   "codemirror_mode": {
    "name": "ipython",
    "version": 2
   },
   "file_extension": ".py",
   "mimetype": "text/x-python",
   "name": "python",
   "nbconvert_exporter": "python",
   "pygments_lexer": "ipython2",
   "version": "2.7.6"
  }
 },
 "nbformat": 4,
 "nbformat_minor": 5
}
