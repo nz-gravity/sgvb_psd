{
 "cells": [
  {
   "metadata": {},
   "cell_type": "markdown",
   "source": [
    "# ET Example\n",
    "\n",
    "Here we have an example of how to use this package to estimate a PSD from ET data.\n",
    "The data is a small subset of the ET data used in the paper for this work."
   ],
   "id": "ab6331762e5fa77c"
  },
  {
   "metadata": {},
   "cell_type": "code",
   "outputs": [],
   "execution_count": null,
   "source": "! pip install sgvb_psd -q ",
   "id": "98ee3dba32b333a8"
  },
  {
   "metadata": {},
   "cell_type": "code",
   "outputs": [],
   "execution_count": null,
   "source": [
    "import time\n",
    "import h5py\n",
    "import os\n",
    "import matplotlib.pyplot as plt\n",
    "import numpy as np\n",
    "from sgvb_psd.psd_estimator import PSDEstimator\n",
    "import urllib.request\n",
    "\n",
    "\n",
    "def load_et_data() -> np.ndarray:\n",
    "    \"\"\"\n",
    "    Return (n_samples, 3) array of XYZ channels\n",
    "    \"\"\"\n",
    "    fname = \"et_data.h5\"\n",
    "    # Download the data if it does not exist\n",
    "    if not os.path.exists(fname):\n",
    "        urllib.request.urlretrieve(\n",
    "            \"https://github.com/nz-gravity/sgvb_psd/raw/main/docs/examples/et_data.h5\",\n",
    "            fname\n",
    "        )\n",
    "\n",
    "    with h5py.File(\"et_data.h5\", \"r\") as f:\n",
    "        channels = np.column_stack([\n",
    "            f[\"X\"][:],\n",
    "            f[\"Y\"][:],\n",
    "            f[\"Z\"][:]\n",
    "        ])\n",
    "        return channels\n",
    "\n",
    "\n",
    "data = load_et_data()\n",
    "\n",
    "N_theta = 400\n",
    "start_time = time.time()\n",
    "optim = PSDEstimator(\n",
    "    x=data,\n",
    "    N_theta=N_theta,\n",
    "    nchunks=128,\n",
    "    fs=2048,\n",
    "    ntrain_map=1000,\n",
    "    fmax_for_analysis=128,\n",
    "    degree_fluctuate=N_theta,\n",
    "    seed=0,\n",
    ")\n",
    "\n",
    "optim.run(lr=0.003)  # remove lr to run-hyperoptimisation (takes a long time)\n",
    "end_time = time.time()\n",
    "estimation_time = end_time - start_time\n",
    "print(f'The estimation time is {estimation_time:.2f}s')\n",
    "\n",
    "optim.plot_coherence(labels='XYZ')\n",
    "plt.savefig(\"ET_coherence.png\")\n",
    "plt.close()\n",
    "\n",
    "optim.plot(xlims=[5, 128], labels='XYZ')\n",
    "plt.savefig(\"ET_psd.png\")\n",
    "plt.close()\n",
    "\n",
    "optim.plot_vi_losses()\n",
    "plt.savefig(\"ET_vi_losses.png\")\n",
    "plt.close()"
   ],
   "id": "73587414f89cebbc"
  },
  {
   "metadata": {},
   "cell_type": "markdown",
   "source": [
    "\n",
    "| |\n",
    "|---|\n",
    "| ![ET PSD][] |\n",
    "| ![ET Coherence][] |\n",
    "| ![ET VI Losses][] |\n",
    "\n",
    "\n",
    "[ET PSD]: ET_psd.png\n",
    "[ET Coherence]: ET_coherence.png\n",
    "[ET VI Losses]: ET_vi_losses.png"
   ],
   "id": "8ca98975eadf68ba"
  }
 ],
 "metadata": {
  "kernelspec": {
   "display_name": "Python 3",
   "language": "python",
   "name": "python3"
  },
  "language_info": {
   "codemirror_mode": {
    "name": "ipython",
    "version": 2
   },
   "file_extension": ".py",
   "mimetype": "text/x-python",
   "name": "python",
   "nbconvert_exporter": "python",
   "pygments_lexer": "ipython2",
   "version": "2.7.6"
  }
 },
 "nbformat": 4,
 "nbformat_minor": 5
}
