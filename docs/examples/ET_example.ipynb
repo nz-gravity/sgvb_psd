{
 "cells": [
  {
   "metadata": {},
   "cell_type": "markdown",
   "source": [
    "# ET Example\n",
    "\n"
   ],
   "id": "2e133c694e532bf6"
  },
  {
   "metadata": {},
   "cell_type": "code",
   "outputs": [],
   "execution_count": null,
   "source": [
    "%load_ext autoreload\n",
    "%autoreload 2"
   ],
   "id": "6a31931cf98ef1f5"
  },
  {
   "metadata": {
    "ExecuteTime": {
     "end_time": "2024-09-19T00:44:10.839544Z",
     "start_time": "2024-09-19T00:44:00.749322Z"
    }
   },
   "cell_type": "code",
   "source": [
    "import os\n",
    "import time\n",
    "import h5py\n",
    "import matplotlib.pyplot as plt\n",
    "import numpy as np\n",
    "from sgvb_psd.psd_estimator import PSDEstimator\n",
    "\n",
    "HERE = os.path.dirname(os.path.abspath(__file__))\n",
    "\n",
    "def load_et_data() -> np.ndarray:\n",
    "    \"\"\"\n",
    "    Return (n_samples, 3) array of XYZ channels\n",
    "    \"\"\"\n",
    "    files_and_keys = [\n",
    "        (\"data/X_ETnoise_GP.hdf5\", 'E1:STRAIN'),\n",
    "        (\"data/Y_ETnoise_GP.hdf5\", 'E2:STRAIN'),\n",
    "        (\"data/Z_ETnoise_GP.hdf5\", 'E3:STRAIN')\n",
    "    ]\n",
    "    channels = [h5py.File(os.path.join(HERE, file), \"r\")[key][:] for file, key in files_and_keys]\n",
    "    return np.column_stack(channels)\n",
    "\n",
    "def load_et_data():\n",
    "    \"\"\"\n",
    "    Return (n_samples, 3) array of XYZ channels\n",
    "    \"\"\"\n",
    "    channels = []\n",
    "    with h5py.File(os.path.join(HERE, \"data/et_data.h5\"), \"r\") as f:\n",
    "        for key in [\"X\", \"Y\", \"Z\"]:\n",
    "            channels.append(f[key][:])\n",
    "    return np.column_stack(channels)\n",
    "\n",
    "\n",
    "data = load_et_data()"
   ],
   "id": "ecf6dec0e24dae51",
   "outputs": [
    {
     "name": "stderr",
     "output_type": "stream",
     "text": [
      "2024-09-19 12:44:03.702657: I tensorflow/core/platform/cpu_feature_guard.cc:210] This TensorFlow binary is optimized to use available CPU instructions in performance-critical operations.\n",
      "To enable the following instructions: AVX2 FMA, in other operations, rebuild TensorFlow with the appropriate compiler flags.\n"
     ]
    },
    {
     "name": "stdout",
     "output_type": "stream",
     "text": [
      "12:44:10|SGVB-PSD|INFO| 0s |No GPU detected. Running on CPU.\n"
     ]
    },
    {
     "ename": "NameError",
     "evalue": "name '__file__' is not defined",
     "output_type": "error",
     "traceback": [
      "\u001B[0;31m---------------------------------------------------------------------------\u001B[0m",
      "\u001B[0;31mNameError\u001B[0m                                 Traceback (most recent call last)",
      "\u001B[0;32m/var/folders/qt/rxjvm_j566v9qn7g754s1v9hzb3p7f/T/ipykernel_22209/1260550746.py\u001B[0m in \u001B[0;36m<cell line: 8>\u001B[0;34m()\u001B[0m\n\u001B[1;32m      6\u001B[0m \u001B[0;32mfrom\u001B[0m \u001B[0msgvb_psd\u001B[0m\u001B[0;34m.\u001B[0m\u001B[0mpsd_estimator\u001B[0m \u001B[0;32mimport\u001B[0m \u001B[0mPSDEstimator\u001B[0m\u001B[0;34m\u001B[0m\u001B[0;34m\u001B[0m\u001B[0m\n\u001B[1;32m      7\u001B[0m \u001B[0;34m\u001B[0m\u001B[0m\n\u001B[0;32m----> 8\u001B[0;31m \u001B[0mHERE\u001B[0m \u001B[0;34m=\u001B[0m \u001B[0mos\u001B[0m\u001B[0;34m.\u001B[0m\u001B[0mpath\u001B[0m\u001B[0;34m.\u001B[0m\u001B[0mdirname\u001B[0m\u001B[0;34m(\u001B[0m\u001B[0mos\u001B[0m\u001B[0;34m.\u001B[0m\u001B[0mpath\u001B[0m\u001B[0;34m.\u001B[0m\u001B[0mabspath\u001B[0m\u001B[0;34m(\u001B[0m\u001B[0m__file__\u001B[0m\u001B[0;34m)\u001B[0m\u001B[0;34m)\u001B[0m\u001B[0;34m\u001B[0m\u001B[0;34m\u001B[0m\u001B[0m\n\u001B[0m\u001B[1;32m      9\u001B[0m \u001B[0;34m\u001B[0m\u001B[0m\n\u001B[1;32m     10\u001B[0m \u001B[0;32mdef\u001B[0m \u001B[0mload_et_data\u001B[0m\u001B[0;34m(\u001B[0m\u001B[0;34m)\u001B[0m \u001B[0;34m->\u001B[0m \u001B[0mnp\u001B[0m\u001B[0;34m.\u001B[0m\u001B[0mndarray\u001B[0m\u001B[0;34m:\u001B[0m\u001B[0;34m\u001B[0m\u001B[0;34m\u001B[0m\u001B[0m\n",
      "\u001B[0;31mNameError\u001B[0m: name '__file__' is not defined"
     ]
    }
   ],
   "execution_count": 1
  },
  {
   "metadata": {
    "ExecuteTime": {
     "end_time": "2024-09-19T00:44:26.785323Z",
     "start_time": "2024-09-19T00:44:25.590067Z"
    }
   },
   "cell_type": "code",
   "source": [
    "N_theta = 400\n",
    "start_time = time.time()\n",
    "optim = PSDEstimator(\n",
    "    N_theta=N_theta,\n",
    "    nchunks=125,\n",
    "    fs=2048,\n",
    "    ntrain_map=100,\n",
    "    x=data,\n",
    "    max_hyperparm_eval=1,\n",
    "    fmax_for_analysis=128,\n",
    "    degree_fluctuate=N_theta,\n",
    "    seed=0,\n",
    ")\n",
    "\n",
    "optim.run()\n",
    "end_time = time.time()\n",
    "estimation_time = end_time - start_time\n",
    "print('The estimation time is', estimation_time, 'seconds')"
   ],
   "id": "6e4bfb53130d9b08",
   "outputs": [
    {
     "ename": "NameError",
     "evalue": "name 'data' is not defined",
     "output_type": "error",
     "traceback": [
      "\u001B[0;31m---------------------------------------------------------------------------\u001B[0m",
      "\u001B[0;31mNameError\u001B[0m                                 Traceback (most recent call last)",
      "\u001B[0;32m/var/folders/qt/rxjvm_j566v9qn7g754s1v9hzb3p7f/T/ipykernel_22209/3360646860.py\u001B[0m in \u001B[0;36m<cell line: 3>\u001B[0;34m()\u001B[0m\n\u001B[1;32m      6\u001B[0m     \u001B[0mfs\u001B[0m\u001B[0;34m=\u001B[0m\u001B[0;36m2048\u001B[0m\u001B[0;34m,\u001B[0m\u001B[0;34m\u001B[0m\u001B[0;34m\u001B[0m\u001B[0m\n\u001B[1;32m      7\u001B[0m     \u001B[0mntrain_map\u001B[0m\u001B[0;34m=\u001B[0m\u001B[0;36m100\u001B[0m\u001B[0;34m,\u001B[0m\u001B[0;34m\u001B[0m\u001B[0;34m\u001B[0m\u001B[0m\n\u001B[0;32m----> 8\u001B[0;31m     \u001B[0mx\u001B[0m\u001B[0;34m=\u001B[0m\u001B[0mdata\u001B[0m\u001B[0;34m,\u001B[0m\u001B[0;34m\u001B[0m\u001B[0;34m\u001B[0m\u001B[0m\n\u001B[0m\u001B[1;32m      9\u001B[0m     \u001B[0mmax_hyperparm_eval\u001B[0m\u001B[0;34m=\u001B[0m\u001B[0;36m1\u001B[0m\u001B[0;34m,\u001B[0m\u001B[0;34m\u001B[0m\u001B[0;34m\u001B[0m\u001B[0m\n\u001B[1;32m     10\u001B[0m     \u001B[0mfmax_for_analysis\u001B[0m\u001B[0;34m=\u001B[0m\u001B[0;36m128\u001B[0m\u001B[0;34m,\u001B[0m\u001B[0;34m\u001B[0m\u001B[0;34m\u001B[0m\u001B[0m\n",
      "\u001B[0;31mNameError\u001B[0m: name 'data' is not defined"
     ]
    }
   ],
   "execution_count": 2
  },
  {
   "metadata": {
    "jupyter": {
     "is_executing": true
    }
   },
   "cell_type": "code",
   "source": [
    "optim.plot_coherence(labels='XYZ')\n",
    "plt.savefig(\"ET_coherence.png\")\n",
    "\n",
    "optim.plot_psd(labels='XYZ')\n",
    "plt.savefig(\"ET_psd.png\")\n",
    "\n",
    "optim.plot_vi_losses()\n",
    "plt.savefig(\"ET_vi_losses.png\")"
   ],
   "id": "1fbc5944147a4bda",
   "outputs": [],
   "execution_count": null
  }
 ],
 "metadata": {
  "kernelspec": {
   "display_name": "Python 3",
   "language": "python",
   "name": "python3"
  },
  "language_info": {
   "codemirror_mode": {
    "name": "ipython",
    "version": 2
   },
   "file_extension": ".py",
   "mimetype": "text/x-python",
   "name": "python",
   "nbconvert_exporter": "python",
   "pygments_lexer": "ipython2",
   "version": "2.7.6"
  }
 },
 "nbformat": 4,
 "nbformat_minor": 5
}
