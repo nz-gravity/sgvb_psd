{
 "cells": [
  {
   "metadata": {},
   "cell_type": "markdown",
   "source": [
    "# ET Example\n",
<<<<<<< HEAD
    "\n",
    "Here we have an example of how to use this package to estimate a PSD from ET data.\n",
    "The data is a small subset of the ET data used in the paper for this work."
=======
    "\n"
>>>>>>> d2c1aedfff0db5a3bf4df1b9fb343e35345c32aa
   ],
   "id": "2e133c694e532bf6"
  },
  {
<<<<<<< HEAD
   "metadata": {
    "ExecuteTime": {
     "end_time": "2024-09-19T03:47:11.788893Z",
     "start_time": "2024-09-19T03:46:36.536881Z"
    }
   },
   "cell_type": "code",
   "source": [
    "import time\n",
    "import h5py\n",
    "import os\n",
    "import matplotlib.pyplot as plt\n",
    "import numpy as np\n",
    "from sgvb_psd.psd_estimator import PSDEstimator\n",
    "\n",
    "\n",
    "def load_et_data() -> np.ndarray:\n",
    "    \"\"\"\n",
    "    Return (n_samples, 3) array of XYZ channels\n",
    "    \"\"\"\n",
    "    fname = \"et_data.h5\"\n",
    "\n",
    "    # Download the data if it does not exist\n",
    "    if not os.path.exists(fname):\n",
    "        url = \"\"\n",
    "\n",
    "\n",
    "    with h5py.File(\"et_data.h5\", \"r\") as f:\n",
    "        channels = np.column_stack([\n",
    "            f[\"X\"][:],\n",
    "            f[\"Y\"][:],\n",
    "            f[\"Z\"][:]\n",
    "        ])\n",
    "        return channels\n",
    "\n",
    "\n",
    "data = load_et_data()\n",
    "\n",
    "N_theta = 400\n",
    "start_time = time.time()\n",
    "optim = PSDEstimator(\n",
    "    x=data,\n",
    "    N_theta=N_theta,\n",
    "    nchunks=128,\n",
    "    fs=2048,\n",
    "    ntrain_map=1000,\n",
    "    fmax_for_analysis=128,\n",
    "    degree_fluctuate=N_theta,\n",
    "    seed=0,\n",
    ")\n",
    "\n",
    "optim.run(lr=0.003)  # remove lr to run-hyperoptimisation (takes a long time)\n",
    "end_time = time.time()\n",
    "estimation_time = end_time - start_time\n",
    "print(f'The estimation time is {estimation_time:.2f}s')\n",
    "\n",
    "optim.plot_coherence(labels='XYZ')\n",
    "plt.savefig(\"ET_coherence.png\")\n",
    "plt.close()\n",
    "\n",
    "optim.plot(xlims=[5, 128], labels='XYZ')\n",
    "plt.savefig(\"ET_psd.png\")\n",
    "plt.close()\n",
    "\n",
    "optim.plot_vi_losses()\n",
    "plt.savefig(\"ET_vi_losses.png\")\n",
    "plt.close()"
   ],
   "id": "2bf5e8adea9ea72a",
   "outputs": [
    {
     "name": "stdout",
     "output_type": "stream",
     "text": [
      "15:46:37|SGVB-PSD|DEBUG| 10947s |Seed set to 0\n",
      "15:46:38|SGVB-PSD|INFO| 10947s |Dividing data (524288, 3) into (128, 4096, 3) chunks\n",
      "15:46:38|SGVB-PSD|INFO| 10947s |Reducing the number of frequencies to be analyzed from 2048 to 128...\n",
      "15:46:38|SGVB-PSD|INFO| 10947s |Final PSD will be of shape: 256 x 3 x 3\n",
      "15:46:38|SGVB-PSD|DEBUG| 10947s |Inputted data shape: (524288, 3)\n",
      "15:46:38|SGVB-PSD|DEBUG| 10948s |Model instantiated: SpecPrep(x(t)=(524288, 3), y(f)=(128, 256, 3), Xmat_delta=(256, 402), Xmat_theta=(256, 402))\n",
      "15:46:38|SGVB-PSD|INFO| 10948s |Using provided learning rate: 0.003\n",
      "15:46:38|SGVB-PSD|INFO| 10948s |Training model\n",
      "15:46:38|SGVB-PSD|DEBUG| 10948s |Starting Model Inference Training..\n",
      "15:46:38|SGVB-PSD|DEBUG| 10948s |Start Point Estimating... \n",
      "15:46:49|SGVB-PSD|DEBUG| 10958s |MAP Training Time: 10.55s\n",
      "15:46:49|SGVB-PSD|DEBUG| 10959s |Start ELBO maximisation... \n",
      "15:47:04|SGVB-PSD|DEBUG| 10974s |VI Time: 15.56s\n",
      "15:47:04|SGVB-PSD|DEBUG| 10974s |Total Inference Training Time: 26.22s\n",
      "15:47:05|SGVB-PSD|INFO| 10975s |Model trained in 26.71s\n",
      "15:47:05|SGVB-PSD|INFO| 10975s |Computing posterior PSDs\n",
      "15:47:06|SGVB-PSD|INFO| 10976s |Optimal PSD estimation complete in 1.48s\n",
      "The estimation time is 29.47s\n"
     ]
    }
   ],
   "execution_count": 3
  },
  {
=======
>>>>>>> d2c1aedfff0db5a3bf4df1b9fb343e35345c32aa
   "metadata": {},
   "cell_type": "code",
   "outputs": [],
   "execution_count": null,
<<<<<<< HEAD
   "source": "",
   "id": "4b1833dce9559105"
=======
   "source": "!in",
   "id": "2bf5e8adea9ea72a"
>>>>>>> d2c1aedfff0db5a3bf4df1b9fb343e35345c32aa
  }
 ],
 "metadata": {
  "kernelspec": {
   "display_name": "Python 3",
   "language": "python",
   "name": "python3"
  },
  "language_info": {
   "codemirror_mode": {
    "name": "ipython",
    "version": 2
   },
   "file_extension": ".py",
   "mimetype": "text/x-python",
   "name": "python",
   "nbconvert_exporter": "python",
   "pygments_lexer": "ipython2",
   "version": "2.7.6"
  }
 },
 "nbformat": 4,
 "nbformat_minor": 5
}
